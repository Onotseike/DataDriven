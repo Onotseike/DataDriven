{
 "cells": [
  {
   "cell_type": "code",
   "execution_count": 1,
   "metadata": {},
   "outputs": [],
   "source": [
    "from sklearn.svm import SVC\n",
    "from sklearn.datasets import make_classification\n",
    "from sklearn.multiclass import OneVsOneClassifier\n",
    "\n",
    "from sklearn.model_selection import train_test_split as tts\n",
    "from sklearn.metrics import classification_report, confusion_matrix\n",
    "\n",
    "import numpy as np\n",
    "import pandas as pd\n",
    "\n",
    "import matplotlib.pyplot as plt"
   ]
  },
  {
   "cell_type": "markdown",
   "metadata": {},
   "source": [
    "### Public variables"
   ]
  },
  {
   "cell_type": "code",
   "execution_count": 2,
   "metadata": {},
   "outputs": [],
   "source": [
    "num_class = 3\n",
    "classes = (\"functional\", \"functional needs repair\",\"non-functional\")"
   ]
  },
  {
   "cell_type": "code",
   "execution_count": 3,
   "metadata": {},
   "outputs": [],
   "source": [
    "train_df = pd.read_csv(\"./datasets/merged_train.csv\")\n",
    "test_df = pd.read_csv(\"./datasets/test.csv\")\n",
    "submission_df = pd.read_csv(\"./datasets/SubmissionFormat.csv\")"
   ]
  },
  {
   "cell_type": "code",
   "execution_count": 4,
   "metadata": {},
   "outputs": [],
   "source": [
    "input_df = train_df.drop(\"status_group\", axis=1)\n",
    "output_df = train_df[\"status_group\"]"
   ]
  },
  {
   "cell_type": "code",
   "execution_count": 5,
   "metadata": {},
   "outputs": [
    {
     "output_type": "stream",
     "name": "stdout",
     "text": "(59400, 28)\n(59400,)\n"
    }
   ],
   "source": [
    "print(input_df.shape)\n",
    "print(output_df.shape)"
   ]
  },
  {
   "cell_type": "code",
   "execution_count": 6,
   "metadata": {},
   "outputs": [],
   "source": [
    "### Split Dataset"
   ]
  },
  {
   "cell_type": "code",
   "execution_count": 7,
   "metadata": {},
   "outputs": [],
   "source": [
    "input_train, input_test, output_train, output_test = tts(input_df, output_df, test_size=0.3)"
   ]
  },
  {
   "cell_type": "code",
   "execution_count": 8,
   "metadata": {},
   "outputs": [
    {
     "output_type": "execute_result",
     "data": {
      "text/plain": "SVC(C=1.0, break_ties=False, cache_size=200, class_weight=None, coef0=0.0,\n    decision_function_shape='ovo', degree=3, gamma='scale', kernel='rbf',\n    max_iter=-1, probability=False, random_state=None, shrinking=True,\n    tol=0.001, verbose=False)"
     },
     "metadata": {},
     "execution_count": 8
    }
   ],
   "source": [
    "svc_classifier = SVC(decision_function_shape='ovo')\n",
    "svc_classifier.fit(input_train, output_train)"
   ]
  },
  {
   "cell_type": "code",
   "execution_count": 9,
   "metadata": {},
   "outputs": [],
   "source": [
    "output_prediction = svc_classifier.predict(input_test)"
   ]
  },
  {
   "cell_type": "code",
   "execution_count": 10,
   "metadata": {},
   "outputs": [
    {
     "output_type": "stream",
     "name": "stdout",
     "text": "[[9610    0    0]\n [1294    0    0]\n [6916    0    0]]\n"
    }
   ],
   "source": [
    "print(confusion_matrix(output_test, output_prediction))"
   ]
  },
  {
   "cell_type": "code",
   "execution_count": 11,
   "metadata": {},
   "outputs": [
    {
     "output_type": "stream",
     "name": "stdout",
     "text": "precision    recall  f1-score   support\n\n           0       0.54      1.00      0.70      9610\n           1       0.00      0.00      0.00      1294\n           2       0.00      0.00      0.00      6916\n\n    accuracy                           0.54     17820\n   macro avg       0.18      0.33      0.23     17820\nweighted avg       0.29      0.54      0.38     17820\n\n"
    }
   ],
   "source": [
    "print(classification_report(output_test, output_prediction))"
   ]
  },
  {
   "cell_type": "code",
   "execution_count": 12,
   "metadata": {},
   "outputs": [
    {
     "output_type": "execute_result",
     "data": {
      "text/plain": "OneVsOneClassifier(estimator=SVC(C=1.0, break_ties=False, cache_size=200,\n                                 class_weight=None, coef0=0.0,\n                                 decision_function_shape='ovr', degree=3,\n                                 gamma='scale', kernel='rbf', max_iter=-1,\n                                 probability=False, random_state=None,\n                                 shrinking=True, tol=0.001, verbose=False),\n                   n_jobs=None)"
     },
     "metadata": {},
     "execution_count": 12
    }
   ],
   "source": [
    "svm_model = SVC()\n",
    "ovo_classifier = OneVsOneClassifier(svm_model)\n",
    "ovo_classifier.fit(input_train, output_train)"
   ]
  },
  {
   "cell_type": "code",
   "execution_count": 13,
   "metadata": {},
   "outputs": [],
   "source": [
    "output_prediction_one = ovo_classifier.predict(input_test)"
   ]
  },
  {
   "cell_type": "code",
   "execution_count": 14,
   "metadata": {},
   "outputs": [
    {
     "output_type": "stream",
     "name": "stdout",
     "text": "[[9610    0    0]\n [1294    0    0]\n [6916    0    0]]\n"
    }
   ],
   "source": [
    "print(confusion_matrix(output_test, output_prediction_one))"
   ]
  },
  {
   "cell_type": "code",
   "execution_count": 15,
   "metadata": {},
   "outputs": [
    {
     "output_type": "stream",
     "name": "stdout",
     "text": "precision    recall  f1-score   support\n\n           0       0.54      1.00      0.70      9610\n           1       0.00      0.00      0.00      1294\n           2       0.00      0.00      0.00      6916\n\n    accuracy                           0.54     17820\n   macro avg       0.18      0.33      0.23     17820\nweighted avg       0.29      0.54      0.38     17820\n\n"
    }
   ],
   "source": [
    "print(classification_report(output_test, output_prediction_one))"
   ]
  },
  {
   "cell_type": "code",
   "execution_count": null,
   "metadata": {},
   "outputs": [],
   "source": []
  }
 ],
 "metadata": {
  "language_info": {
   "codemirror_mode": {
    "name": "ipython",
    "version": 3
   },
   "file_extension": ".py",
   "mimetype": "text/x-python",
   "name": "python",
   "nbconvert_exporter": "python",
   "pygments_lexer": "ipython3",
   "version": "3.7.7-final"
  },
  "orig_nbformat": 2,
  "kernelspec": {
   "name": "python3",
   "display_name": "Python 3"
  }
 },
 "nbformat": 4,
 "nbformat_minor": 2
}