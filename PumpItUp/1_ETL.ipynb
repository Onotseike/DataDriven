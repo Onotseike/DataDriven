{
 "cells": [
  {
   "cell_type": "code",
   "execution_count": 1,
   "metadata": {},
   "outputs": [],
   "source": [
    "# Import Statements\n",
    "import os\n",
    "\n",
    "import pandas as pd\n",
    "import numpy as np"
   ]
  },
  {
   "cell_type": "markdown",
   "metadata": {},
   "source": [
    "# Load Dataset files\n",
    "    We will be working with the following files:\n",
    "    * Training set values\n",
    "    * Training set labels\n",
    "    * Test set values\n"
   ]
  },
  {
   "cell_type": "code",
   "execution_count": 2,
   "metadata": {},
   "outputs": [],
   "source": [
    "train_values = pd.read_csv(\"./datasets/train_values.csv\")\n",
    "train_labels = pd.read_csv(\"./datasets/train_labels.csv\")\n",
    "\n",
    "test_values = pd.read_csv(\"./datasets/test_values.csv\")"
   ]
  },
  {
   "cell_type": "markdown",
   "metadata": {},
   "source": [
    "## Show Train Values"
   ]
  },
  {
   "cell_type": "code",
   "execution_count": 3,
   "metadata": {},
   "outputs": [
    {
     "output_type": "stream",
     "name": "stdout",
     "text": "id  amount_tsh date_recorded           funder  gps_height  \\\n0      69572      6000.0    2011-03-14            Roman        1390   \n1       8776         0.0    2013-03-06          Grumeti        1399   \n2      34310        25.0    2013-02-25     Lottery Club         686   \n3      67743         0.0    2013-01-28           Unicef         263   \n4      19728         0.0    2011-07-13      Action In A           0   \n...      ...         ...           ...              ...         ...   \n59395  60739        10.0    2013-05-03  Germany Republi        1210   \n59396  27263      4700.0    2011-05-07      Cefa-njombe        1212   \n59397  37057         0.0    2011-04-11              NaN           0   \n59398  31282         0.0    2011-03-08            Malec           0   \n59399  26348         0.0    2011-03-23       World Bank         191   \n\n          installer  longitude   latitude              wpt_name  num_private  \\\n0             Roman  34.938093  -9.856322                  none            0   \n1           GRUMETI  34.698766  -2.147466              Zahanati            0   \n2      World vision  37.460664  -3.821329           Kwa Mahundi            0   \n3            UNICEF  38.486161 -11.155298  Zahanati Ya Nanyumbu            0   \n4           Artisan  31.130847  -1.825359               Shuleni            0   \n...             ...        ...        ...                   ...          ...   \n59395           CES  37.169807  -3.253847   Area Three Namba 27            0   \n59396          Cefa  35.249991  -9.070629     Kwa Yahona Kuvala            0   \n59397           NaN  34.017087  -8.750434               Mashine            0   \n59398          Musa  35.861315  -6.378573                Mshoro            0   \n59399         World  38.104048  -6.747464       Kwa Mzee Lugawa            0   \n\n       ... payment_type water_quality quality_group      quantity  \\\n0      ...     annually          soft          good        enough   \n1      ...    never pay          soft          good  insufficient   \n2      ...   per bucket          soft          good        enough   \n3      ...    never pay          soft          good           dry   \n4      ...    never pay          soft          good      seasonal   \n...    ...          ...           ...           ...           ...   \n59395  ...   per bucket          soft          good        enough   \n59396  ...     annually          soft          good        enough   \n59397  ...      monthly      fluoride      fluoride        enough   \n59398  ...    never pay          soft          good  insufficient   \n59399  ...   on failure         salty         salty        enough   \n\n       quantity_group                source           source_type  \\\n0              enough                spring                spring   \n1        insufficient  rainwater harvesting  rainwater harvesting   \n2              enough                   dam                   dam   \n3                 dry           machine dbh              borehole   \n4            seasonal  rainwater harvesting  rainwater harvesting   \n...               ...                   ...                   ...   \n59395          enough                spring                spring   \n59396          enough                 river            river/lake   \n59397          enough           machine dbh              borehole   \n59398    insufficient          shallow well          shallow well   \n59399          enough          shallow well          shallow well   \n\n       source_class              waterpoint_type waterpoint_type_group  \n0       groundwater           communal standpipe    communal standpipe  \n1           surface           communal standpipe    communal standpipe  \n2           surface  communal standpipe multiple    communal standpipe  \n3       groundwater  communal standpipe multiple    communal standpipe  \n4           surface           communal standpipe    communal standpipe  \n...             ...                          ...                   ...  \n59395   groundwater           communal standpipe    communal standpipe  \n59396       surface           communal standpipe    communal standpipe  \n59397   groundwater                    hand pump             hand pump  \n59398   groundwater                    hand pump             hand pump  \n59399   groundwater                    hand pump             hand pump  \n\n[59400 rows x 40 columns]\n*****************************************************************************************\n\n"
    }
   ],
   "source": [
    "print(train_values)\n",
    "print(\"*\" * 89)\n",
    "print()"
   ]
  },
  {
   "cell_type": "markdown",
   "metadata": {},
   "source": [
    "## Show Train Labels"
   ]
  },
  {
   "cell_type": "code",
   "execution_count": 4,
   "metadata": {},
   "outputs": [
    {
     "output_type": "stream",
     "name": "stdout",
     "text": "id    status_group\n0      69572      functional\n1       8776      functional\n2      34310      functional\n3      67743  non functional\n4      19728      functional\n...      ...             ...\n59395  60739      functional\n59396  27263      functional\n59397  37057      functional\n59398  31282      functional\n59399  26348      functional\n\n[59400 rows x 2 columns]\n*****************************************************************************************\n"
    }
   ],
   "source": [
    "print(train_labels)\n",
    "print(\"*\" * 89)"
   ]
  },
  {
   "cell_type": "markdown",
   "metadata": {},
   "source": [
    "## Show Test Values"
   ]
  },
  {
   "cell_type": "code",
   "execution_count": 5,
   "metadata": {},
   "outputs": [
    {
     "output_type": "stream",
     "name": "stdout",
     "text": "id  amount_tsh date_recorded                  funder  gps_height  \\\n0      50785         0.0    2013-02-04                    Dmdd        1996   \n1      51630         0.0    2013-02-04  Government Of Tanzania        1569   \n2      17168         0.0    2013-02-01                     NaN        1567   \n3      45559         0.0    2013-01-22              Finn Water         267   \n4      49871       500.0    2013-03-27                  Bruder        1260   \n...      ...         ...           ...                     ...         ...   \n14845  39307         0.0    2011-02-24                  Danida          34   \n14846  18990      1000.0    2011-03-21                    Hiap           0   \n14847  28749         0.0    2013-03-04                     NaN        1476   \n14848  33492         0.0    2013-02-18                 Germany         998   \n14849  68707         0.0    2013-02-13  Government Of Tanzania         481   \n\n        installer  longitude   latitude                 wpt_name  num_private  \\\n0            DMDD  35.290799  -4.059696  Dinamu Secondary School            0   \n1             DWE  36.656709  -3.309214                  Kimnyak            0   \n2             NaN  34.767863  -5.004344           Puma Secondary            0   \n3      FINN WATER  38.058046  -9.418672           Kwa Mzee Pange            0   \n4          BRUDER  35.006123 -10.950412          Kwa Mzee Turuka            0   \n...           ...        ...        ...                      ...          ...   \n14845          Da  38.852669  -6.582841                Kwambwezi            0   \n14846        HIAP  37.451633  -5.350428         Bonde La Mkondoa            0   \n14847         NaN  34.739804  -4.585587                  Bwawani            0   \n14848         DWE  35.432732 -10.584159                 Kwa John            0   \n14849  Government  34.765054 -11.226012         Kwa Mzee Chagala            0   \n\n       ... payment_type water_quality quality_group      quantity  \\\n0      ...    never pay          soft          good      seasonal   \n1      ...    never pay          soft          good  insufficient   \n2      ...    never pay          soft          good  insufficient   \n3      ...      unknown          soft          good           dry   \n4      ...      monthly          soft          good        enough   \n...    ...          ...           ...           ...           ...   \n14845  ...    never pay          soft          good        enough   \n14846  ...     annually         salty         salty  insufficient   \n14847  ...    never pay          soft          good  insufficient   \n14848  ...    never pay          soft          good  insufficient   \n14849  ...    never pay          soft          good           dry   \n\n       quantity_group                source           source_type  \\\n0            seasonal  rainwater harvesting  rainwater harvesting   \n1        insufficient                spring                spring   \n2        insufficient  rainwater harvesting  rainwater harvesting   \n3                 dry          shallow well          shallow well   \n4              enough                spring                spring   \n...               ...                   ...                   ...   \n14845          enough                 river            river/lake   \n14846    insufficient          shallow well          shallow well   \n14847    insufficient                   dam                   dam   \n14848    insufficient                 river            river/lake   \n14849             dry                spring                spring   \n\n       source_class     waterpoint_type waterpoint_type_group  \n0           surface               other                 other  \n1       groundwater  communal standpipe    communal standpipe  \n2           surface               other                 other  \n3       groundwater               other                 other  \n4       groundwater  communal standpipe    communal standpipe  \n...             ...                 ...                   ...  \n14845       surface  communal standpipe    communal standpipe  \n14846   groundwater           hand pump             hand pump  \n14847       surface  communal standpipe    communal standpipe  \n14848       surface  communal standpipe    communal standpipe  \n14849   groundwater  communal standpipe    communal standpipe  \n\n[14850 rows x 40 columns]\n*****************************************************************************************\n"
    }
   ],
   "source": [
    "print(test_values)\n",
    "print(\"*\" * 89)"
   ]
  },
  {
   "cell_type": "code",
   "execution_count": 6,
   "metadata": {},
   "outputs": [
    {
     "output_type": "stream",
     "name": "stdout",
     "text": "<class 'pandas.core.frame.DataFrame'>\nRangeIndex: 59400 entries, 0 to 59399\nData columns (total 40 columns):\n #   Column                 Non-Null Count  Dtype  \n---  ------                 --------------  -----  \n 0   id                     59400 non-null  int64  \n 1   amount_tsh             59400 non-null  float64\n 2   date_recorded          59400 non-null  object \n 3   funder                 55765 non-null  object \n 4   gps_height             59400 non-null  int64  \n 5   installer              55745 non-null  object \n 6   longitude              59400 non-null  float64\n 7   latitude               59400 non-null  float64\n 8   wpt_name               59400 non-null  object \n 9   num_private            59400 non-null  int64  \n 10  basin                  59400 non-null  object \n 11  subvillage             59029 non-null  object \n 12  region                 59400 non-null  object \n 13  region_code            59400 non-null  int64  \n 14  district_code          59400 non-null  int64  \n 15  lga                    59400 non-null  object \n 16  ward                   59400 non-null  object \n 17  population             59400 non-null  int64  \n 18  public_meeting         56066 non-null  object \n 19  recorded_by            59400 non-null  object \n 20  scheme_management      55523 non-null  object \n 21  scheme_name            31234 non-null  object \n 22  permit                 56344 non-null  object \n 23  construction_year      59400 non-null  int64  \n 24  extraction_type        59400 non-null  object \n 25  extraction_type_group  59400 non-null  object \n 26  extraction_type_class  59400 non-null  object \n 27  management             59400 non-null  object \n 28  management_group       59400 non-null  object \n 29  payment                59400 non-null  object \n 30  payment_type           59400 non-null  object \n 31  water_quality          59400 non-null  object \n 32  quality_group          59400 non-null  object \n 33  quantity               59400 non-null  object \n 34  quantity_group         59400 non-null  object \n 35  source                 59400 non-null  object \n 36  source_type            59400 non-null  object \n 37  source_class           59400 non-null  object \n 38  waterpoint_type        59400 non-null  object \n 39  waterpoint_type_group  59400 non-null  object \ndtypes: float64(3), int64(7), object(30)\nmemory usage: 18.1+ MB\nNone\n"
    }
   ],
   "source": [
    "\n",
    "# Count the number of missing values per column\n",
    "#print(train_values.describe())\n",
    "#print(\"-\" * 89)\n",
    "print(train_values.info())"
   ]
  },
  {
   "cell_type": "code",
   "execution_count": 7,
   "metadata": {},
   "outputs": [
    {
     "output_type": "stream",
     "name": "stdout",
     "text": "<class 'pandas.core.frame.DataFrame'>\nRangeIndex: 14850 entries, 0 to 14849\nData columns (total 40 columns):\n #   Column                 Non-Null Count  Dtype  \n---  ------                 --------------  -----  \n 0   id                     14850 non-null  int64  \n 1   amount_tsh             14850 non-null  float64\n 2   date_recorded          14850 non-null  object \n 3   funder                 13981 non-null  object \n 4   gps_height             14850 non-null  int64  \n 5   installer              13973 non-null  object \n 6   longitude              14850 non-null  float64\n 7   latitude               14850 non-null  float64\n 8   wpt_name               14850 non-null  object \n 9   num_private            14850 non-null  int64  \n 10  basin                  14850 non-null  object \n 11  subvillage             14751 non-null  object \n 12  region                 14850 non-null  object \n 13  region_code            14850 non-null  int64  \n 14  district_code          14850 non-null  int64  \n 15  lga                    14850 non-null  object \n 16  ward                   14850 non-null  object \n 17  population             14850 non-null  int64  \n 18  public_meeting         14029 non-null  object \n 19  recorded_by            14850 non-null  object \n 20  scheme_management      13881 non-null  object \n 21  scheme_name            7758 non-null   object \n 22  permit                 14113 non-null  object \n 23  construction_year      14850 non-null  int64  \n 24  extraction_type        14850 non-null  object \n 25  extraction_type_group  14850 non-null  object \n 26  extraction_type_class  14850 non-null  object \n 27  management             14850 non-null  object \n 28  management_group       14850 non-null  object \n 29  payment                14850 non-null  object \n 30  payment_type           14850 non-null  object \n 31  water_quality          14850 non-null  object \n 32  quality_group          14850 non-null  object \n 33  quantity               14850 non-null  object \n 34  quantity_group         14850 non-null  object \n 35  source                 14850 non-null  object \n 36  source_type            14850 non-null  object \n 37  source_class           14850 non-null  object \n 38  waterpoint_type        14850 non-null  object \n 39  waterpoint_type_group  14850 non-null  object \ndtypes: float64(3), int64(7), object(30)\nmemory usage: 4.5+ MB\nNone\n"
    }
   ],
   "source": [
    "# Count the number of missing values per column\n",
    "#print(test_values.describe())\n",
    "#print(\"-\" * 89)\n",
    "print(test_values.info())"
   ]
  },
  {
   "cell_type": "code",
   "execution_count": 8,
   "metadata": {},
   "outputs": [
    {
     "output_type": "stream",
     "name": "stdout",
     "text": "['id', 'amount_tsh', 'date_recorded', 'funder', 'gps_height', 'installer', 'longitude', 'latitude', 'wpt_name', 'num_private', 'basin', 'subvillage', 'region', 'region_code', 'district_code', 'lga', 'ward', 'population', 'public_meeting', 'recorded_by', 'scheme_management', 'scheme_name', 'permit', 'construction_year', 'extraction_type', 'extraction_type_group', 'extraction_type_class', 'management', 'management_group', 'payment', 'payment_type', 'water_quality', 'quality_group', 'quantity', 'quantity_group', 'source', 'source_type', 'source_class', 'waterpoint_type', 'waterpoint_type_group']\n40\n"
    }
   ],
   "source": [
    "col_names = list(train_values.columns)\n",
    "print(col_names)\n",
    "print(len(col_names))"
   ]
  },
  {
   "cell_type": "code",
   "execution_count": 9,
   "metadata": {},
   "outputs": [],
   "source": [
    "filled_train_val = train_values.interpolate(method='linear', limit_direction='forward').fillna(\"NODATA\")\n",
    "filled_test_val = test_values.interpolate(method='linear', limit_direction='forward').fillna(\"NODATA\")"
   ]
  },
  {
   "cell_type": "code",
   "execution_count": 10,
   "metadata": {},
   "outputs": [
    {
     "output_type": "stream",
     "name": "stdout",
     "text": "<class 'pandas.core.frame.DataFrame'>\nRangeIndex: 59400 entries, 0 to 59399\nData columns (total 40 columns):\n #   Column                 Non-Null Count  Dtype  \n---  ------                 --------------  -----  \n 0   id                     59400 non-null  int64  \n 1   amount_tsh             59400 non-null  float64\n 2   date_recorded          59400 non-null  object \n 3   funder                 59400 non-null  object \n 4   gps_height             59400 non-null  int64  \n 5   installer              59400 non-null  object \n 6   longitude              59400 non-null  float64\n 7   latitude               59400 non-null  float64\n 8   wpt_name               59400 non-null  object \n 9   num_private            59400 non-null  int64  \n 10  basin                  59400 non-null  object \n 11  subvillage             59400 non-null  object \n 12  region                 59400 non-null  object \n 13  region_code            59400 non-null  int64  \n 14  district_code          59400 non-null  int64  \n 15  lga                    59400 non-null  object \n 16  ward                   59400 non-null  object \n 17  population             59400 non-null  int64  \n 18  public_meeting         59400 non-null  object \n 19  recorded_by            59400 non-null  object \n 20  scheme_management      59400 non-null  object \n 21  scheme_name            59400 non-null  object \n 22  permit                 59400 non-null  object \n 23  construction_year      59400 non-null  int64  \n 24  extraction_type        59400 non-null  object \n 25  extraction_type_group  59400 non-null  object \n 26  extraction_type_class  59400 non-null  object \n 27  management             59400 non-null  object \n 28  management_group       59400 non-null  object \n 29  payment                59400 non-null  object \n 30  payment_type           59400 non-null  object \n 31  water_quality          59400 non-null  object \n 32  quality_group          59400 non-null  object \n 33  quantity               59400 non-null  object \n 34  quantity_group         59400 non-null  object \n 35  source                 59400 non-null  object \n 36  source_type            59400 non-null  object \n 37  source_class           59400 non-null  object \n 38  waterpoint_type        59400 non-null  object \n 39  waterpoint_type_group  59400 non-null  object \ndtypes: float64(3), int64(7), object(30)\nmemory usage: 18.1+ MB\nNone\n"
    }
   ],
   "source": [
    "print(filled_train_val.info())"
   ]
  },
  {
   "cell_type": "code",
   "execution_count": 11,
   "metadata": {},
   "outputs": [
    {
     "output_type": "stream",
     "name": "stdout",
     "text": "<class 'pandas.core.frame.DataFrame'>\nRangeIndex: 14850 entries, 0 to 14849\nData columns (total 40 columns):\n #   Column                 Non-Null Count  Dtype  \n---  ------                 --------------  -----  \n 0   id                     14850 non-null  int64  \n 1   amount_tsh             14850 non-null  float64\n 2   date_recorded          14850 non-null  object \n 3   funder                 14850 non-null  object \n 4   gps_height             14850 non-null  int64  \n 5   installer              14850 non-null  object \n 6   longitude              14850 non-null  float64\n 7   latitude               14850 non-null  float64\n 8   wpt_name               14850 non-null  object \n 9   num_private            14850 non-null  int64  \n 10  basin                  14850 non-null  object \n 11  subvillage             14850 non-null  object \n 12  region                 14850 non-null  object \n 13  region_code            14850 non-null  int64  \n 14  district_code          14850 non-null  int64  \n 15  lga                    14850 non-null  object \n 16  ward                   14850 non-null  object \n 17  population             14850 non-null  int64  \n 18  public_meeting         14850 non-null  object \n 19  recorded_by            14850 non-null  object \n 20  scheme_management      14850 non-null  object \n 21  scheme_name            14850 non-null  object \n 22  permit                 14850 non-null  object \n 23  construction_year      14850 non-null  int64  \n 24  extraction_type        14850 non-null  object \n 25  extraction_type_group  14850 non-null  object \n 26  extraction_type_class  14850 non-null  object \n 27  management             14850 non-null  object \n 28  management_group       14850 non-null  object \n 29  payment                14850 non-null  object \n 30  payment_type           14850 non-null  object \n 31  water_quality          14850 non-null  object \n 32  quality_group          14850 non-null  object \n 33  quantity               14850 non-null  object \n 34  quantity_group         14850 non-null  object \n 35  source                 14850 non-null  object \n 36  source_type            14850 non-null  object \n 37  source_class           14850 non-null  object \n 38  waterpoint_type        14850 non-null  object \n 39  waterpoint_type_group  14850 non-null  object \ndtypes: float64(3), int64(7), object(30)\nmemory usage: 4.5+ MB\nNone\n"
    }
   ],
   "source": [
    "print(filled_test_val.info())"
   ]
  },
  {
   "cell_type": "code",
   "execution_count": 12,
   "metadata": {},
   "outputs": [
    {
     "output_type": "stream",
     "name": "stdout",
     "text": "['id', 'amount_tsh', 'gps_height', 'longitude', 'latitude', 'num_private', 'region_code', 'district_code', 'population', 'public_meeting', 'scheme_management', 'permit', 'extraction_type', 'extraction_type_group', 'extraction_type_class', 'management', 'management_group', 'payment', 'payment_type', 'water_quality', 'quality_group', 'quantity', 'quantity_group', 'source', 'source_type', 'source_class', 'waterpoint_type', 'waterpoint_type_group']\n28\n"
    }
   ],
   "source": [
    "selected_cols = [col_names[idx] for idx in [0,1,4,6,7,9,13,14,17,18,20,22,24,25,26,27,28,29,30,31,32,33,34,35,36,37,38,39]]\n",
    "print(selected_cols)\n",
    "print(len(selected_cols))"
   ]
  },
  {
   "cell_type": "code",
   "execution_count": 17,
   "metadata": {},
   "outputs": [],
   "source": [
    "selected_train_val = filled_train_val[selected_cols].set_index(\"id\")\n",
    "selected_test_val = filled_test_val[selected_cols].set_index(\"id\")"
   ]
  },
  {
   "cell_type": "code",
   "execution_count": 19,
   "metadata": {},
   "outputs": [
    {
     "output_type": "execute_result",
     "data": {
      "text/plain": "          amount_tsh    gps_height     longitude      latitude   num_private  \\\ncount   59400.000000  59400.000000  59400.000000  5.940000e+04  59400.000000   \nmean      317.650385    668.297239     34.077427 -5.706033e+00      0.474141   \nstd      2997.574558    693.116350      6.567432  2.946019e+00     12.236230   \nmin         0.000000    -90.000000      0.000000 -1.164944e+01      0.000000   \n25%         0.000000      0.000000     33.090347 -8.540621e+00      0.000000   \n50%         0.000000    369.000000     34.908743 -5.021597e+00      0.000000   \n75%        20.000000   1319.250000     37.178387 -3.326156e+00      0.000000   \nmax    350000.000000   2770.000000     40.345193 -2.000000e-08   1776.000000   \n\n        region_code  district_code    population  \ncount  59400.000000   59400.000000  59400.000000  \nmean      15.297003       5.629747    179.909983  \nstd       17.587406       9.633649    471.482176  \nmin        1.000000       0.000000      0.000000  \n25%        5.000000       2.000000      0.000000  \n50%       12.000000       3.000000     25.000000  \n75%       17.000000       5.000000    215.000000  \nmax       99.000000      80.000000  30500.000000  ",
      "text/html": "<div>\n<style scoped>\n    .dataframe tbody tr th:only-of-type {\n        vertical-align: middle;\n    }\n\n    .dataframe tbody tr th {\n        vertical-align: top;\n    }\n\n    .dataframe thead th {\n        text-align: right;\n    }\n</style>\n<table border=\"1\" class=\"dataframe\">\n  <thead>\n    <tr style=\"text-align: right;\">\n      <th></th>\n      <th>amount_tsh</th>\n      <th>gps_height</th>\n      <th>longitude</th>\n      <th>latitude</th>\n      <th>num_private</th>\n      <th>region_code</th>\n      <th>district_code</th>\n      <th>population</th>\n    </tr>\n  </thead>\n  <tbody>\n    <tr>\n      <th>count</th>\n      <td>59400.000000</td>\n      <td>59400.000000</td>\n      <td>59400.000000</td>\n      <td>5.940000e+04</td>\n      <td>59400.000000</td>\n      <td>59400.000000</td>\n      <td>59400.000000</td>\n      <td>59400.000000</td>\n    </tr>\n    <tr>\n      <th>mean</th>\n      <td>317.650385</td>\n      <td>668.297239</td>\n      <td>34.077427</td>\n      <td>-5.706033e+00</td>\n      <td>0.474141</td>\n      <td>15.297003</td>\n      <td>5.629747</td>\n      <td>179.909983</td>\n    </tr>\n    <tr>\n      <th>std</th>\n      <td>2997.574558</td>\n      <td>693.116350</td>\n      <td>6.567432</td>\n      <td>2.946019e+00</td>\n      <td>12.236230</td>\n      <td>17.587406</td>\n      <td>9.633649</td>\n      <td>471.482176</td>\n    </tr>\n    <tr>\n      <th>min</th>\n      <td>0.000000</td>\n      <td>-90.000000</td>\n      <td>0.000000</td>\n      <td>-1.164944e+01</td>\n      <td>0.000000</td>\n      <td>1.000000</td>\n      <td>0.000000</td>\n      <td>0.000000</td>\n    </tr>\n    <tr>\n      <th>25%</th>\n      <td>0.000000</td>\n      <td>0.000000</td>\n      <td>33.090347</td>\n      <td>-8.540621e+00</td>\n      <td>0.000000</td>\n      <td>5.000000</td>\n      <td>2.000000</td>\n      <td>0.000000</td>\n    </tr>\n    <tr>\n      <th>50%</th>\n      <td>0.000000</td>\n      <td>369.000000</td>\n      <td>34.908743</td>\n      <td>-5.021597e+00</td>\n      <td>0.000000</td>\n      <td>12.000000</td>\n      <td>3.000000</td>\n      <td>25.000000</td>\n    </tr>\n    <tr>\n      <th>75%</th>\n      <td>20.000000</td>\n      <td>1319.250000</td>\n      <td>37.178387</td>\n      <td>-3.326156e+00</td>\n      <td>0.000000</td>\n      <td>17.000000</td>\n      <td>5.000000</td>\n      <td>215.000000</td>\n    </tr>\n    <tr>\n      <th>max</th>\n      <td>350000.000000</td>\n      <td>2770.000000</td>\n      <td>40.345193</td>\n      <td>-2.000000e-08</td>\n      <td>1776.000000</td>\n      <td>99.000000</td>\n      <td>80.000000</td>\n      <td>30500.000000</td>\n    </tr>\n  </tbody>\n</table>\n</div>"
     },
     "metadata": {},
     "execution_count": 19
    }
   ],
   "source": [
    "selected_train_val.describe()"
   ]
  },
  {
   "cell_type": "code",
   "execution_count": 20,
   "metadata": {},
   "outputs": [
    {
     "output_type": "execute_result",
     "data": {
      "text/plain": "          amount_tsh    gps_height     longitude      latitude   num_private  \\\ncount   14850.000000  14850.000000  14850.000000  1.485000e+04  14850.000000   \nmean      322.826983    655.147609     34.061605 -5.684724e+00      0.415084   \nstd      2510.968644    691.261185      6.593034  2.940803e+00      8.167910   \nmin         0.000000    -57.000000      0.000000 -1.156459e+01      0.000000   \n25%         0.000000      0.000000     33.069455 -8.443970e+00      0.000000   \n50%         0.000000    344.000000     34.901215 -5.049750e+00      0.000000   \n75%        25.000000   1308.000000     37.196594 -3.320594e+00      0.000000   \nmax    200000.000000   2777.000000     40.325016 -2.000000e-08    669.000000   \n\n        region_code  district_code    population  \ncount  14850.000000   14850.000000  14850.000000  \nmean      15.139057       5.626397    184.114209  \nstd       17.191329       9.673842    469.499332  \nmin        1.000000       0.000000      0.000000  \n25%        5.000000       2.000000      0.000000  \n50%       12.000000       3.000000     20.000000  \n75%       17.000000       5.000000    220.000000  \nmax       99.000000      80.000000  11469.000000  ",
      "text/html": "<div>\n<style scoped>\n    .dataframe tbody tr th:only-of-type {\n        vertical-align: middle;\n    }\n\n    .dataframe tbody tr th {\n        vertical-align: top;\n    }\n\n    .dataframe thead th {\n        text-align: right;\n    }\n</style>\n<table border=\"1\" class=\"dataframe\">\n  <thead>\n    <tr style=\"text-align: right;\">\n      <th></th>\n      <th>amount_tsh</th>\n      <th>gps_height</th>\n      <th>longitude</th>\n      <th>latitude</th>\n      <th>num_private</th>\n      <th>region_code</th>\n      <th>district_code</th>\n      <th>population</th>\n    </tr>\n  </thead>\n  <tbody>\n    <tr>\n      <th>count</th>\n      <td>14850.000000</td>\n      <td>14850.000000</td>\n      <td>14850.000000</td>\n      <td>1.485000e+04</td>\n      <td>14850.000000</td>\n      <td>14850.000000</td>\n      <td>14850.000000</td>\n      <td>14850.000000</td>\n    </tr>\n    <tr>\n      <th>mean</th>\n      <td>322.826983</td>\n      <td>655.147609</td>\n      <td>34.061605</td>\n      <td>-5.684724e+00</td>\n      <td>0.415084</td>\n      <td>15.139057</td>\n      <td>5.626397</td>\n      <td>184.114209</td>\n    </tr>\n    <tr>\n      <th>std</th>\n      <td>2510.968644</td>\n      <td>691.261185</td>\n      <td>6.593034</td>\n      <td>2.940803e+00</td>\n      <td>8.167910</td>\n      <td>17.191329</td>\n      <td>9.673842</td>\n      <td>469.499332</td>\n    </tr>\n    <tr>\n      <th>min</th>\n      <td>0.000000</td>\n      <td>-57.000000</td>\n      <td>0.000000</td>\n      <td>-1.156459e+01</td>\n      <td>0.000000</td>\n      <td>1.000000</td>\n      <td>0.000000</td>\n      <td>0.000000</td>\n    </tr>\n    <tr>\n      <th>25%</th>\n      <td>0.000000</td>\n      <td>0.000000</td>\n      <td>33.069455</td>\n      <td>-8.443970e+00</td>\n      <td>0.000000</td>\n      <td>5.000000</td>\n      <td>2.000000</td>\n      <td>0.000000</td>\n    </tr>\n    <tr>\n      <th>50%</th>\n      <td>0.000000</td>\n      <td>344.000000</td>\n      <td>34.901215</td>\n      <td>-5.049750e+00</td>\n      <td>0.000000</td>\n      <td>12.000000</td>\n      <td>3.000000</td>\n      <td>20.000000</td>\n    </tr>\n    <tr>\n      <th>75%</th>\n      <td>25.000000</td>\n      <td>1308.000000</td>\n      <td>37.196594</td>\n      <td>-3.320594e+00</td>\n      <td>0.000000</td>\n      <td>17.000000</td>\n      <td>5.000000</td>\n      <td>220.000000</td>\n    </tr>\n    <tr>\n      <th>max</th>\n      <td>200000.000000</td>\n      <td>2777.000000</td>\n      <td>40.325016</td>\n      <td>-2.000000e-08</td>\n      <td>669.000000</td>\n      <td>99.000000</td>\n      <td>80.000000</td>\n      <td>11469.000000</td>\n    </tr>\n  </tbody>\n</table>\n</div>"
     },
     "metadata": {},
     "execution_count": 20
    }
   ],
   "source": [
    "selected_test_val.describe()"
   ]
  },
  {
   "cell_type": "code",
   "execution_count": 22,
   "metadata": {},
   "outputs": [],
   "source": [
    "normalize_train = selected_train_val\n",
    "for (name,data) in normalize_train.iteritems():\n",
    "    if normalize_train[name].dtypes != np.object:\n",
    "        normalize_train[name] = ((data - data.min())/(data.max() - data.min()))"
   ]
  },
  {
   "cell_type": "code",
   "execution_count": 23,
   "metadata": {},
   "outputs": [
    {
     "output_type": "execute_result",
     "data": {
      "text/plain": "         amount_tsh    gps_height     longitude      latitude   num_private  \\\ncount  59400.000000  59400.000000  59400.000000  59400.000000  59400.000000   \nmean       0.000908      0.265139      0.844647      0.510188      0.000267   \nstd        0.008564      0.242348      0.162781      0.252889      0.006890   \nmin        0.000000      0.000000      0.000000      0.000000      0.000000   \n25%        0.000000      0.031469      0.820181      0.266864      0.000000   \n50%        0.000000      0.160490      0.865252      0.568941      0.000000   \n75%        0.000057      0.492745      0.921507      0.714479      0.000000   \nmax        1.000000      1.000000      1.000000      1.000000      1.000000   \n\n        region_code  district_code    population  \ncount  59400.000000   59400.000000  59400.000000  \nmean       0.145888       0.070372      0.005899  \nstd        0.179463       0.120421      0.015458  \nmin        0.000000       0.000000      0.000000  \n25%        0.040816       0.025000      0.000000  \n50%        0.112245       0.037500      0.000820  \n75%        0.163265       0.062500      0.007049  \nmax        1.000000       1.000000      1.000000  ",
      "text/html": "<div>\n<style scoped>\n    .dataframe tbody tr th:only-of-type {\n        vertical-align: middle;\n    }\n\n    .dataframe tbody tr th {\n        vertical-align: top;\n    }\n\n    .dataframe thead th {\n        text-align: right;\n    }\n</style>\n<table border=\"1\" class=\"dataframe\">\n  <thead>\n    <tr style=\"text-align: right;\">\n      <th></th>\n      <th>amount_tsh</th>\n      <th>gps_height</th>\n      <th>longitude</th>\n      <th>latitude</th>\n      <th>num_private</th>\n      <th>region_code</th>\n      <th>district_code</th>\n      <th>population</th>\n    </tr>\n  </thead>\n  <tbody>\n    <tr>\n      <th>count</th>\n      <td>59400.000000</td>\n      <td>59400.000000</td>\n      <td>59400.000000</td>\n      <td>59400.000000</td>\n      <td>59400.000000</td>\n      <td>59400.000000</td>\n      <td>59400.000000</td>\n      <td>59400.000000</td>\n    </tr>\n    <tr>\n      <th>mean</th>\n      <td>0.000908</td>\n      <td>0.265139</td>\n      <td>0.844647</td>\n      <td>0.510188</td>\n      <td>0.000267</td>\n      <td>0.145888</td>\n      <td>0.070372</td>\n      <td>0.005899</td>\n    </tr>\n    <tr>\n      <th>std</th>\n      <td>0.008564</td>\n      <td>0.242348</td>\n      <td>0.162781</td>\n      <td>0.252889</td>\n      <td>0.006890</td>\n      <td>0.179463</td>\n      <td>0.120421</td>\n      <td>0.015458</td>\n    </tr>\n    <tr>\n      <th>min</th>\n      <td>0.000000</td>\n      <td>0.000000</td>\n      <td>0.000000</td>\n      <td>0.000000</td>\n      <td>0.000000</td>\n      <td>0.000000</td>\n      <td>0.000000</td>\n      <td>0.000000</td>\n    </tr>\n    <tr>\n      <th>25%</th>\n      <td>0.000000</td>\n      <td>0.031469</td>\n      <td>0.820181</td>\n      <td>0.266864</td>\n      <td>0.000000</td>\n      <td>0.040816</td>\n      <td>0.025000</td>\n      <td>0.000000</td>\n    </tr>\n    <tr>\n      <th>50%</th>\n      <td>0.000000</td>\n      <td>0.160490</td>\n      <td>0.865252</td>\n      <td>0.568941</td>\n      <td>0.000000</td>\n      <td>0.112245</td>\n      <td>0.037500</td>\n      <td>0.000820</td>\n    </tr>\n    <tr>\n      <th>75%</th>\n      <td>0.000057</td>\n      <td>0.492745</td>\n      <td>0.921507</td>\n      <td>0.714479</td>\n      <td>0.000000</td>\n      <td>0.163265</td>\n      <td>0.062500</td>\n      <td>0.007049</td>\n    </tr>\n    <tr>\n      <th>max</th>\n      <td>1.000000</td>\n      <td>1.000000</td>\n      <td>1.000000</td>\n      <td>1.000000</td>\n      <td>1.000000</td>\n      <td>1.000000</td>\n      <td>1.000000</td>\n      <td>1.000000</td>\n    </tr>\n  </tbody>\n</table>\n</div>"
     },
     "metadata": {},
     "execution_count": 23
    }
   ],
   "source": [
    "normalize_train.describe()"
   ]
  },
  {
   "cell_type": "code",
   "execution_count": 24,
   "metadata": {},
   "outputs": [],
   "source": [
    "normalize_test = selected_test_val\n",
    "for(name,data) in normalize_test.iteritems():\n",
    "    if normalize_test[name].dtypes != np.object:\n",
    "        normalize_test[name] = ((data - data.min())/(data.max() - data.min()))"
   ]
  },
  {
   "cell_type": "code",
   "execution_count": 25,
   "metadata": {},
   "outputs": [
    {
     "output_type": "execute_result",
     "data": {
      "text/plain": "         amount_tsh    gps_height     longitude      latitude   num_private  \\\ncount  14850.000000  14850.000000  14850.000000  14850.000000  14850.000000   \nmean       0.001614      0.251287      0.844677      0.508437      0.000620   \nstd        0.012555      0.243917      0.163497      0.254294      0.012209   \nmin        0.000000      0.000000      0.000000      0.000000      0.000000   \n25%        0.000000      0.020113      0.820073      0.269843      0.000000   \n50%        0.000000      0.141496      0.865498      0.563344      0.000000   \n75%        0.000125      0.481651      0.922420      0.712865      0.000000   \nmax        1.000000      1.000000      1.000000      1.000000      1.000000   \n\n        region_code  district_code    population  \ncount  14850.000000   14850.000000  14850.000000  \nmean       0.144276       0.070330      0.016053  \nstd        0.175422       0.120923      0.040936  \nmin        0.000000       0.000000      0.000000  \n25%        0.040816       0.025000      0.000000  \n50%        0.112245       0.037500      0.001744  \n75%        0.163265       0.062500      0.019182  \nmax        1.000000       1.000000      1.000000  ",
      "text/html": "<div>\n<style scoped>\n    .dataframe tbody tr th:only-of-type {\n        vertical-align: middle;\n    }\n\n    .dataframe tbody tr th {\n        vertical-align: top;\n    }\n\n    .dataframe thead th {\n        text-align: right;\n    }\n</style>\n<table border=\"1\" class=\"dataframe\">\n  <thead>\n    <tr style=\"text-align: right;\">\n      <th></th>\n      <th>amount_tsh</th>\n      <th>gps_height</th>\n      <th>longitude</th>\n      <th>latitude</th>\n      <th>num_private</th>\n      <th>region_code</th>\n      <th>district_code</th>\n      <th>population</th>\n    </tr>\n  </thead>\n  <tbody>\n    <tr>\n      <th>count</th>\n      <td>14850.000000</td>\n      <td>14850.000000</td>\n      <td>14850.000000</td>\n      <td>14850.000000</td>\n      <td>14850.000000</td>\n      <td>14850.000000</td>\n      <td>14850.000000</td>\n      <td>14850.000000</td>\n    </tr>\n    <tr>\n      <th>mean</th>\n      <td>0.001614</td>\n      <td>0.251287</td>\n      <td>0.844677</td>\n      <td>0.508437</td>\n      <td>0.000620</td>\n      <td>0.144276</td>\n      <td>0.070330</td>\n      <td>0.016053</td>\n    </tr>\n    <tr>\n      <th>std</th>\n      <td>0.012555</td>\n      <td>0.243917</td>\n      <td>0.163497</td>\n      <td>0.254294</td>\n      <td>0.012209</td>\n      <td>0.175422</td>\n      <td>0.120923</td>\n      <td>0.040936</td>\n    </tr>\n    <tr>\n      <th>min</th>\n      <td>0.000000</td>\n      <td>0.000000</td>\n      <td>0.000000</td>\n      <td>0.000000</td>\n      <td>0.000000</td>\n      <td>0.000000</td>\n      <td>0.000000</td>\n      <td>0.000000</td>\n    </tr>\n    <tr>\n      <th>25%</th>\n      <td>0.000000</td>\n      <td>0.020113</td>\n      <td>0.820073</td>\n      <td>0.269843</td>\n      <td>0.000000</td>\n      <td>0.040816</td>\n      <td>0.025000</td>\n      <td>0.000000</td>\n    </tr>\n    <tr>\n      <th>50%</th>\n      <td>0.000000</td>\n      <td>0.141496</td>\n      <td>0.865498</td>\n      <td>0.563344</td>\n      <td>0.000000</td>\n      <td>0.112245</td>\n      <td>0.037500</td>\n      <td>0.001744</td>\n    </tr>\n    <tr>\n      <th>75%</th>\n      <td>0.000125</td>\n      <td>0.481651</td>\n      <td>0.922420</td>\n      <td>0.712865</td>\n      <td>0.000000</td>\n      <td>0.163265</td>\n      <td>0.062500</td>\n      <td>0.019182</td>\n    </tr>\n    <tr>\n      <th>max</th>\n      <td>1.000000</td>\n      <td>1.000000</td>\n      <td>1.000000</td>\n      <td>1.000000</td>\n      <td>1.000000</td>\n      <td>1.000000</td>\n      <td>1.000000</td>\n      <td>1.000000</td>\n    </tr>\n  </tbody>\n</table>\n</div>"
     },
     "metadata": {},
     "execution_count": 25
    }
   ],
   "source": [
    "normalize_test.describe()"
   ]
  },
  {
   "cell_type": "code",
   "execution_count": 52,
   "metadata": {},
   "outputs": [],
   "source": [
    "train_unique = {}\n",
    "for (name, data) in normalize_train.iteritems():\n",
    "    if normalize_train[name].dtypes == np.object:\n",
    "        unique = list(data.unique())\n",
    "        unique.insert(0,\"NODATA\")\n",
    "        unique = list(set(unique))\n",
    "        no = unique.index('NODATA')        \n",
    "        unique[0], unique[no] = unique[no], unique[0]       \n",
    "        train_unique[name] = {unique[idx] : idx for idx in range(len(unique))}"
   ]
  },
  {
   "cell_type": "code",
   "execution_count": 61,
   "metadata": {},
   "outputs": [],
   "source": [
    "object_normalize_train = normalize_train.select_dtypes(include=['object']).copy()\n",
    "object_normalize_train.replace(train_unique, inplace=True)\n",
    "\n",
    "object_normalize_test = normalize_test.select_dtypes(include=['object']).copy()\n",
    "object_normalize_test.replace(train_unique, inplace=True)"
   ]
  },
  {
   "cell_type": "code",
   "execution_count": 62,
   "metadata": {},
   "outputs": [
    {
     "output_type": "stream",
     "name": "stdout",
     "text": "<class 'pandas.core.frame.DataFrame'>\nInt64Index: 59400 entries, 69572 to 26348\nData columns (total 27 columns):\n #   Column                 Non-Null Count  Dtype  \n---  ------                 --------------  -----  \n 0   amount_tsh             59400 non-null  float64\n 1   gps_height             59400 non-null  float64\n 2   longitude              59400 non-null  float64\n 3   latitude               59400 non-null  float64\n 4   num_private            59400 non-null  float64\n 5   region_code            59400 non-null  float64\n 6   district_code          59400 non-null  float64\n 7   population             59400 non-null  float64\n 8   public_meeting         59400 non-null  object \n 9   scheme_management      59400 non-null  object \n 10  permit                 59400 non-null  object \n 11  extraction_type        59400 non-null  object \n 12  extraction_type_group  59400 non-null  object \n 13  extraction_type_class  59400 non-null  object \n 14  management             59400 non-null  object \n 15  management_group       59400 non-null  object \n 16  payment                59400 non-null  object \n 17  payment_type           59400 non-null  object \n 18  water_quality          59400 non-null  object \n 19  quality_group          59400 non-null  object \n 20  quantity               59400 non-null  object \n 21  quantity_group         59400 non-null  object \n 22  source                 59400 non-null  object \n 23  source_type            59400 non-null  object \n 24  source_class           59400 non-null  object \n 25  waterpoint_type        59400 non-null  object \n 26  waterpoint_type_group  59400 non-null  object \ndtypes: float64(8), object(19)\nmemory usage: 15.2+ MB\n"
    }
   ],
   "source": [
    "normalize_train.info(0)"
   ]
  },
  {
   "cell_type": "code",
   "execution_count": 63,
   "metadata": {},
   "outputs": [],
   "source": [
    "train = normalize_train.select_dtypes(include=['float64']).merge(object_normalize_train, left_index=True, right_index=True)\n"
   ]
  },
  {
   "cell_type": "code",
   "execution_count": 64,
   "metadata": {},
   "outputs": [],
   "source": [
    "test = normalize_test.select_dtypes(include=['float64']).merge(object_normalize_test, left_index=True, right_index=True)\n"
   ]
  },
  {
   "cell_type": "code",
   "execution_count": 67,
   "metadata": {},
   "outputs": [],
   "source": [
    "train.to_csv(\"./datasets/train.csv\", index=False, header=True)\n",
    "test.to_csv(\"./datasets/test.csv\", index=False, header=True)"
   ]
  },
  {
   "cell_type": "code",
   "execution_count": null,
   "metadata": {},
   "outputs": [],
   "source": []
  }
 ],
 "metadata": {
  "language_info": {
   "name": "python",
   "codemirror_mode": {
    "name": "ipython",
    "version": 3
   },
   "version": "3.6.10-final"
  },
  "orig_nbformat": 2,
  "file_extension": ".py",
  "mimetype": "text/x-python",
  "name": "python",
  "npconvert_exporter": "python",
  "pygments_lexer": "ipython3",
  "version": 3,
  "kernelspec": {
   "name": "python361064bitpytorchpython36conda67ab338b5aea4512a55c45a4f56020b8",
   "display_name": "Python 3.6.10 64-bit ('pytorch_python_36': conda)"
  }
 },
 "nbformat": 4,
 "nbformat_minor": 2
}