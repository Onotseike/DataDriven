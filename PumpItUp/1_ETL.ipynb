{
 "cells": [
  {
   "cell_type": "code",
   "execution_count": 1,
   "metadata": {},
   "outputs": [],
   "source": [
    "# Import Statements\n",
    "import os\n",
    "\n",
    "import pandas as pd\n",
    "import numpy as np"
   ]
  },
  {
   "cell_type": "markdown",
   "metadata": {},
   "source": [
    "# Load Dataset files\n",
    "    We will be working with the following files:\n",
    "    * Training set values\n",
    "    * Training set labels\n",
    "    * Test set values\n"
   ]
  },
  {
   "cell_type": "code",
   "execution_count": 2,
   "metadata": {},
   "outputs": [],
   "source": [
    "train_values = pd.read_csv(\"./datasets/train_values.csv\")\n",
    "train_labels = pd.read_csv(\"./datasets/train_labels.csv\")\n",
    "\n",
    "test_values = pd.read_csv(\"./datasets/test_values.csv\")"
   ]
  },
  {
   "cell_type": "code",
   "execution_count": 15,
   "metadata": {},
   "outputs": [],
   "source": [
    "num_class = 3\n",
    "classes = (\"functional\", \"functional needs repair\",\"non functional\")"
   ]
  },
  {
   "cell_type": "markdown",
   "metadata": {},
   "source": [
    "## Show Train Values"
   ]
  },
  {
   "cell_type": "code",
   "execution_count": 4,
   "metadata": {},
   "outputs": [
    {
     "output_type": "stream",
     "name": "stdout",
     "text": "id  amount_tsh date_recorded           funder  gps_height  \\\n0      69572      6000.0    2011-03-14            Roman        1390   \n1       8776         0.0    2013-03-06          Grumeti        1399   \n2      34310        25.0    2013-02-25     Lottery Club         686   \n3      67743         0.0    2013-01-28           Unicef         263   \n4      19728         0.0    2011-07-13      Action In A           0   \n...      ...         ...           ...              ...         ...   \n59395  60739        10.0    2013-05-03  Germany Republi        1210   \n59396  27263      4700.0    2011-05-07      Cefa-njombe        1212   \n59397  37057         0.0    2011-04-11              NaN           0   \n59398  31282         0.0    2011-03-08            Malec           0   \n59399  26348         0.0    2011-03-23       World Bank         191   \n\n          installer  longitude   latitude              wpt_name  num_private  \\\n0             Roman  34.938093  -9.856322                  none            0   \n1           GRUMETI  34.698766  -2.147466              Zahanati            0   \n2      World vision  37.460664  -3.821329           Kwa Mahundi            0   \n3            UNICEF  38.486161 -11.155298  Zahanati Ya Nanyumbu            0   \n4           Artisan  31.130847  -1.825359               Shuleni            0   \n...             ...        ...        ...                   ...          ...   \n59395           CES  37.169807  -3.253847   Area Three Namba 27            0   \n59396          Cefa  35.249991  -9.070629     Kwa Yahona Kuvala            0   \n59397           NaN  34.017087  -8.750434               Mashine            0   \n59398          Musa  35.861315  -6.378573                Mshoro            0   \n59399         World  38.104048  -6.747464       Kwa Mzee Lugawa            0   \n\n       ... payment_type water_quality quality_group      quantity  \\\n0      ...     annually          soft          good        enough   \n1      ...    never pay          soft          good  insufficient   \n2      ...   per bucket          soft          good        enough   \n3      ...    never pay          soft          good           dry   \n4      ...    never pay          soft          good      seasonal   \n...    ...          ...           ...           ...           ...   \n59395  ...   per bucket          soft          good        enough   \n59396  ...     annually          soft          good        enough   \n59397  ...      monthly      fluoride      fluoride        enough   \n59398  ...    never pay          soft          good  insufficient   \n59399  ...   on failure         salty         salty        enough   \n\n       quantity_group                source           source_type  \\\n0              enough                spring                spring   \n1        insufficient  rainwater harvesting  rainwater harvesting   \n2              enough                   dam                   dam   \n3                 dry           machine dbh              borehole   \n4            seasonal  rainwater harvesting  rainwater harvesting   \n...               ...                   ...                   ...   \n59395          enough                spring                spring   \n59396          enough                 river            river/lake   \n59397          enough           machine dbh              borehole   \n59398    insufficient          shallow well          shallow well   \n59399          enough          shallow well          shallow well   \n\n       source_class              waterpoint_type waterpoint_type_group  \n0       groundwater           communal standpipe    communal standpipe  \n1           surface           communal standpipe    communal standpipe  \n2           surface  communal standpipe multiple    communal standpipe  \n3       groundwater  communal standpipe multiple    communal standpipe  \n4           surface           communal standpipe    communal standpipe  \n...             ...                          ...                   ...  \n59395   groundwater           communal standpipe    communal standpipe  \n59396       surface           communal standpipe    communal standpipe  \n59397   groundwater                    hand pump             hand pump  \n59398   groundwater                    hand pump             hand pump  \n59399   groundwater                    hand pump             hand pump  \n\n[59400 rows x 40 columns]\n*****************************************************************************************\n\n"
    }
   ],
   "source": [
    "print(train_values)\n",
    "print(\"*\" * 89)\n",
    "print()"
   ]
  },
  {
   "cell_type": "markdown",
   "metadata": {},
   "source": [
    "## Show Train Labels"
   ]
  },
  {
   "cell_type": "code",
   "execution_count": 5,
   "metadata": {},
   "outputs": [
    {
     "output_type": "stream",
     "name": "stdout",
     "text": "id    status_group\n0      69572      functional\n1       8776      functional\n2      34310      functional\n3      67743  non functional\n4      19728      functional\n...      ...             ...\n59395  60739      functional\n59396  27263      functional\n59397  37057      functional\n59398  31282      functional\n59399  26348      functional\n\n[59400 rows x 2 columns]\n*****************************************************************************************\n"
    }
   ],
   "source": [
    "print(train_labels)\n",
    "print(\"*\" * 89)"
   ]
  },
  {
   "cell_type": "markdown",
   "metadata": {},
   "source": [
    "## Show Test Values"
   ]
  },
  {
   "cell_type": "code",
   "execution_count": 6,
   "metadata": {},
   "outputs": [
    {
     "output_type": "stream",
     "name": "stdout",
     "text": "id  amount_tsh date_recorded                  funder  gps_height  \\\n0      50785         0.0    2013-02-04                    Dmdd        1996   \n1      51630         0.0    2013-02-04  Government Of Tanzania        1569   \n2      17168         0.0    2013-02-01                     NaN        1567   \n3      45559         0.0    2013-01-22              Finn Water         267   \n4      49871       500.0    2013-03-27                  Bruder        1260   \n...      ...         ...           ...                     ...         ...   \n14845  39307         0.0    2011-02-24                  Danida          34   \n14846  18990      1000.0    2011-03-21                    Hiap           0   \n14847  28749         0.0    2013-03-04                     NaN        1476   \n14848  33492         0.0    2013-02-18                 Germany         998   \n14849  68707         0.0    2013-02-13  Government Of Tanzania         481   \n\n        installer  longitude   latitude                 wpt_name  num_private  \\\n0            DMDD  35.290799  -4.059696  Dinamu Secondary School            0   \n1             DWE  36.656709  -3.309214                  Kimnyak            0   \n2             NaN  34.767863  -5.004344           Puma Secondary            0   \n3      FINN WATER  38.058046  -9.418672           Kwa Mzee Pange            0   \n4          BRUDER  35.006123 -10.950412          Kwa Mzee Turuka            0   \n...           ...        ...        ...                      ...          ...   \n14845          Da  38.852669  -6.582841                Kwambwezi            0   \n14846        HIAP  37.451633  -5.350428         Bonde La Mkondoa            0   \n14847         NaN  34.739804  -4.585587                  Bwawani            0   \n14848         DWE  35.432732 -10.584159                 Kwa John            0   \n14849  Government  34.765054 -11.226012         Kwa Mzee Chagala            0   \n\n       ... payment_type water_quality quality_group      quantity  \\\n0      ...    never pay          soft          good      seasonal   \n1      ...    never pay          soft          good  insufficient   \n2      ...    never pay          soft          good  insufficient   \n3      ...      unknown          soft          good           dry   \n4      ...      monthly          soft          good        enough   \n...    ...          ...           ...           ...           ...   \n14845  ...    never pay          soft          good        enough   \n14846  ...     annually         salty         salty  insufficient   \n14847  ...    never pay          soft          good  insufficient   \n14848  ...    never pay          soft          good  insufficient   \n14849  ...    never pay          soft          good           dry   \n\n       quantity_group                source           source_type  \\\n0            seasonal  rainwater harvesting  rainwater harvesting   \n1        insufficient                spring                spring   \n2        insufficient  rainwater harvesting  rainwater harvesting   \n3                 dry          shallow well          shallow well   \n4              enough                spring                spring   \n...               ...                   ...                   ...   \n14845          enough                 river            river/lake   \n14846    insufficient          shallow well          shallow well   \n14847    insufficient                   dam                   dam   \n14848    insufficient                 river            river/lake   \n14849             dry                spring                spring   \n\n       source_class     waterpoint_type waterpoint_type_group  \n0           surface               other                 other  \n1       groundwater  communal standpipe    communal standpipe  \n2           surface               other                 other  \n3       groundwater               other                 other  \n4       groundwater  communal standpipe    communal standpipe  \n...             ...                 ...                   ...  \n14845       surface  communal standpipe    communal standpipe  \n14846   groundwater           hand pump             hand pump  \n14847       surface  communal standpipe    communal standpipe  \n14848       surface  communal standpipe    communal standpipe  \n14849   groundwater  communal standpipe    communal standpipe  \n\n[14850 rows x 40 columns]\n*****************************************************************************************\n"
    }
   ],
   "source": [
    "print(test_values)\n",
    "print(\"*\" * 89)"
   ]
  },
  {
   "cell_type": "code",
   "execution_count": 7,
   "metadata": {},
   "outputs": [
    {
     "output_type": "stream",
     "name": "stdout",
     "text": "<class 'pandas.core.frame.DataFrame'>\nRangeIndex: 59400 entries, 0 to 59399\nData columns (total 40 columns):\n #   Column                 Non-Null Count  Dtype  \n---  ------                 --------------  -----  \n 0   id                     59400 non-null  int64  \n 1   amount_tsh             59400 non-null  float64\n 2   date_recorded          59400 non-null  object \n 3   funder                 55765 non-null  object \n 4   gps_height             59400 non-null  int64  \n 5   installer              55745 non-null  object \n 6   longitude              59400 non-null  float64\n 7   latitude               59400 non-null  float64\n 8   wpt_name               59400 non-null  object \n 9   num_private            59400 non-null  int64  \n 10  basin                  59400 non-null  object \n 11  subvillage             59029 non-null  object \n 12  region                 59400 non-null  object \n 13  region_code            59400 non-null  int64  \n 14  district_code          59400 non-null  int64  \n 15  lga                    59400 non-null  object \n 16  ward                   59400 non-null  object \n 17  population             59400 non-null  int64  \n 18  public_meeting         56066 non-null  object \n 19  recorded_by            59400 non-null  object \n 20  scheme_management      55523 non-null  object \n 21  scheme_name            31234 non-null  object \n 22  permit                 56344 non-null  object \n 23  construction_year      59400 non-null  int64  \n 24  extraction_type        59400 non-null  object \n 25  extraction_type_group  59400 non-null  object \n 26  extraction_type_class  59400 non-null  object \n 27  management             59400 non-null  object \n 28  management_group       59400 non-null  object \n 29  payment                59400 non-null  object \n 30  payment_type           59400 non-null  object \n 31  water_quality          59400 non-null  object \n 32  quality_group          59400 non-null  object \n 33  quantity               59400 non-null  object \n 34  quantity_group         59400 non-null  object \n 35  source                 59400 non-null  object \n 36  source_type            59400 non-null  object \n 37  source_class           59400 non-null  object \n 38  waterpoint_type        59400 non-null  object \n 39  waterpoint_type_group  59400 non-null  object \ndtypes: float64(3), int64(7), object(30)\nmemory usage: 18.1+ MB\nNone\n"
    }
   ],
   "source": [
    "\n",
    "# Count the number of missing values per column\n",
    "#print(train_values.describe())\n",
    "#print(\"-\" * 89)\n",
    "print(train_values.info())"
   ]
  },
  {
   "cell_type": "code",
   "execution_count": 8,
   "metadata": {},
   "outputs": [
    {
     "output_type": "stream",
     "name": "stdout",
     "text": "<class 'pandas.core.frame.DataFrame'>\nRangeIndex: 14850 entries, 0 to 14849\nData columns (total 40 columns):\n #   Column                 Non-Null Count  Dtype  \n---  ------                 --------------  -----  \n 0   id                     14850 non-null  int64  \n 1   amount_tsh             14850 non-null  float64\n 2   date_recorded          14850 non-null  object \n 3   funder                 13981 non-null  object \n 4   gps_height             14850 non-null  int64  \n 5   installer              13973 non-null  object \n 6   longitude              14850 non-null  float64\n 7   latitude               14850 non-null  float64\n 8   wpt_name               14850 non-null  object \n 9   num_private            14850 non-null  int64  \n 10  basin                  14850 non-null  object \n 11  subvillage             14751 non-null  object \n 12  region                 14850 non-null  object \n 13  region_code            14850 non-null  int64  \n 14  district_code          14850 non-null  int64  \n 15  lga                    14850 non-null  object \n 16  ward                   14850 non-null  object \n 17  population             14850 non-null  int64  \n 18  public_meeting         14029 non-null  object \n 19  recorded_by            14850 non-null  object \n 20  scheme_management      13881 non-null  object \n 21  scheme_name            7758 non-null   object \n 22  permit                 14113 non-null  object \n 23  construction_year      14850 non-null  int64  \n 24  extraction_type        14850 non-null  object \n 25  extraction_type_group  14850 non-null  object \n 26  extraction_type_class  14850 non-null  object \n 27  management             14850 non-null  object \n 28  management_group       14850 non-null  object \n 29  payment                14850 non-null  object \n 30  payment_type           14850 non-null  object \n 31  water_quality          14850 non-null  object \n 32  quality_group          14850 non-null  object \n 33  quantity               14850 non-null  object \n 34  quantity_group         14850 non-null  object \n 35  source                 14850 non-null  object \n 36  source_type            14850 non-null  object \n 37  source_class           14850 non-null  object \n 38  waterpoint_type        14850 non-null  object \n 39  waterpoint_type_group  14850 non-null  object \ndtypes: float64(3), int64(7), object(30)\nmemory usage: 4.5+ MB\nNone\n"
    }
   ],
   "source": [
    "# Count the number of missing values per column\n",
    "#print(test_values.describe())\n",
    "#print(\"-\" * 89)\n",
    "print(test_values.info())"
   ]
  },
  {
   "cell_type": "code",
   "execution_count": 9,
   "metadata": {},
   "outputs": [],
   "source": [
    "column_labels = list(train_values.columns.values)\n",
    "column_labels.remove(\"id\")\n",
    "column_labels.remove(\"amount_tsh\")\n",
    "column_labels.remove(\"date_recorded\")\n",
    "column_labels.remove(\"gps_height\")\n",
    "column_labels.remove(\"longitude\")\n",
    "column_labels.remove(\"latitude\")\n",
    "column_labels.remove(\"num_private\")\n",
    "column_labels.remove(\"region_code\")\n",
    "column_labels.remove(\"district_code\")\n",
    "column_labels.remove(\"population\")\n",
    "column_labels.remove(\"construction_year\")"
   ]
  },
  {
   "cell_type": "code",
   "execution_count": 10,
   "metadata": {},
   "outputs": [],
   "source": [
    "test_values = test_values.fillna(test_values.median())"
   ]
  },
  {
   "cell_type": "code",
   "execution_count": 11,
   "metadata": {},
   "outputs": [
    {
     "output_type": "stream",
     "name": "stdout",
     "text": "2141\n2411\n45684\n9\n21426\n21\n125\n2098\n3\n1\n13\n2869\n3\n18\n13\n7\n12\n5\n7\n7\n8\n6\n5\n5\n10\n7\n3\n7\n6\n"
    }
   ],
   "source": [
    "for col in column_labels:\n",
    "    unique_values = list(set(np.concatenate((train_values[col].unique(), test_values[col].unique()))))\n",
    "    size = len(unique_values)\n",
    "    print(size)\n",
    "    for s in range(size):\n",
    "        if unique_values[s] != \"nan\":\n",
    "            train_values.loc[train_values[col] == unique_values[s], col] = s\n",
    "            test_values.loc[test_values[col] == unique_values[s], col] = s\n",
    "\n",
    "train_values = train_values.fillna(train_values.median())\n",
    "test_values = test_values.fillna(test_values.median())"
   ]
  },
  {
   "cell_type": "code",
   "execution_count": 12,
   "metadata": {},
   "outputs": [],
   "source": [
    "train_values.to_csv(\"./datasets/preprocessed_data/train.csv\", index=False, header=True)\n",
    "test_values.to_csv(\"./datasets/preprocessed_data/test.csv\", index=False, header=True)"
   ]
  },
  {
   "cell_type": "code",
   "execution_count": 16,
   "metadata": {},
   "outputs": [],
   "source": [
    "train_labels_int = train_labels.copy()\n",
    "for idx, data in train_labels_int[\"status_group\"].iteritems():\n",
    "    if data in classes:\n",
    "        train_labels_int[\"status_group\"][idx] = classes.index(data)"
   ]
  },
  {
   "cell_type": "code",
   "execution_count": 17,
   "metadata": {},
   "outputs": [
    {
     "output_type": "execute_result",
     "data": {
      "text/plain": "      id status_group\n0  69572            0\n1   8776            0\n2  34310            0\n3  67743            2\n4  19728            0\n5   9944            0\n6  19816            2\n7  54551            2\n8  53934            2\n9  46144            0",
      "text/html": "<div>\n<style scoped>\n    .dataframe tbody tr th:only-of-type {\n        vertical-align: middle;\n    }\n\n    .dataframe tbody tr th {\n        vertical-align: top;\n    }\n\n    .dataframe thead th {\n        text-align: right;\n    }\n</style>\n<table border=\"1\" class=\"dataframe\">\n  <thead>\n    <tr style=\"text-align: right;\">\n      <th></th>\n      <th>id</th>\n      <th>status_group</th>\n    </tr>\n  </thead>\n  <tbody>\n    <tr>\n      <th>0</th>\n      <td>69572</td>\n      <td>0</td>\n    </tr>\n    <tr>\n      <th>1</th>\n      <td>8776</td>\n      <td>0</td>\n    </tr>\n    <tr>\n      <th>2</th>\n      <td>34310</td>\n      <td>0</td>\n    </tr>\n    <tr>\n      <th>3</th>\n      <td>67743</td>\n      <td>2</td>\n    </tr>\n    <tr>\n      <th>4</th>\n      <td>19728</td>\n      <td>0</td>\n    </tr>\n    <tr>\n      <th>5</th>\n      <td>9944</td>\n      <td>0</td>\n    </tr>\n    <tr>\n      <th>6</th>\n      <td>19816</td>\n      <td>2</td>\n    </tr>\n    <tr>\n      <th>7</th>\n      <td>54551</td>\n      <td>2</td>\n    </tr>\n    <tr>\n      <th>8</th>\n      <td>53934</td>\n      <td>2</td>\n    </tr>\n    <tr>\n      <th>9</th>\n      <td>46144</td>\n      <td>0</td>\n    </tr>\n  </tbody>\n</table>\n</div>"
     },
     "metadata": {},
     "execution_count": 17
    }
   ],
   "source": [
    "train_labels_int.head(10)"
   ]
  },
  {
   "cell_type": "code",
   "execution_count": 18,
   "metadata": {},
   "outputs": [],
   "source": [
    "train_labels_int.to_csv(\"./datasets/preprocessed_data/train_labels.csv\", index=False, header=True)"
   ]
  },
  {
   "cell_type": "code",
   "execution_count": 19,
   "metadata": {},
   "outputs": [
    {
     "output_type": "stream",
     "name": "stdout",
     "text": "True\n"
    }
   ],
   "source": [
    "if train_values[\"id\"].equals(train_labels_int[\"id\"]):\n",
    "    print(\"True\")\n",
    "    train_values[\"status_group\"] = train_labels_int[\"status_group\"]"
   ]
  },
  {
   "cell_type": "code",
   "execution_count": 20,
   "metadata": {},
   "outputs": [
    {
     "output_type": "execute_result",
     "data": {
      "text/plain": "      id  amount_tsh date_recorded  funder  gps_height  installer  longitude  \\\n0  69572      6000.0    2011-03-14  1559.0        1390     1764.0  34.938093   \n1   8776         0.0    2013-03-06  1731.0        1399     1868.0  34.698766   \n2  34310        25.0    2013-02-25  1431.0         686     1732.0  37.460664   \n3  67743         0.0    2013-01-28  1265.0         263     1254.0  38.486161   \n4  19728         0.0    2011-07-13  1555.0           0     1454.0  31.130847   \n\n    latitude  wpt_name  num_private  ...  water_quality  quality_group  \\\n0  -9.856322      5520            0  ...              2              5   \n1  -2.147466     17493            0  ...              2              5   \n2  -3.821329     37342            0  ...              2              5   \n3 -11.155298        12            0  ...              2              5   \n4  -1.825359     29877            0  ...              2              5   \n\n   quantity  quantity_group  source  source_type  source_class  \\\n0         3               3       3            2             2   \n1         4               4       0            0             0   \n2         3               3       5            3             0   \n3         1               1       4            5             2   \n4         2               2       0            0             0   \n\n   waterpoint_type  waterpoint_type_group  status_group  \n0                0                      0             0  \n1                0                      0             0  \n2                3                      0             0  \n3                3                      0             2  \n4                0                      0             0  \n\n[5 rows x 41 columns]",
      "text/html": "<div>\n<style scoped>\n    .dataframe tbody tr th:only-of-type {\n        vertical-align: middle;\n    }\n\n    .dataframe tbody tr th {\n        vertical-align: top;\n    }\n\n    .dataframe thead th {\n        text-align: right;\n    }\n</style>\n<table border=\"1\" class=\"dataframe\">\n  <thead>\n    <tr style=\"text-align: right;\">\n      <th></th>\n      <th>id</th>\n      <th>amount_tsh</th>\n      <th>date_recorded</th>\n      <th>funder</th>\n      <th>gps_height</th>\n      <th>installer</th>\n      <th>longitude</th>\n      <th>latitude</th>\n      <th>wpt_name</th>\n      <th>num_private</th>\n      <th>...</th>\n      <th>water_quality</th>\n      <th>quality_group</th>\n      <th>quantity</th>\n      <th>quantity_group</th>\n      <th>source</th>\n      <th>source_type</th>\n      <th>source_class</th>\n      <th>waterpoint_type</th>\n      <th>waterpoint_type_group</th>\n      <th>status_group</th>\n    </tr>\n  </thead>\n  <tbody>\n    <tr>\n      <th>0</th>\n      <td>69572</td>\n      <td>6000.0</td>\n      <td>2011-03-14</td>\n      <td>1559.0</td>\n      <td>1390</td>\n      <td>1764.0</td>\n      <td>34.938093</td>\n      <td>-9.856322</td>\n      <td>5520</td>\n      <td>0</td>\n      <td>...</td>\n      <td>2</td>\n      <td>5</td>\n      <td>3</td>\n      <td>3</td>\n      <td>3</td>\n      <td>2</td>\n      <td>2</td>\n      <td>0</td>\n      <td>0</td>\n      <td>0</td>\n    </tr>\n    <tr>\n      <th>1</th>\n      <td>8776</td>\n      <td>0.0</td>\n      <td>2013-03-06</td>\n      <td>1731.0</td>\n      <td>1399</td>\n      <td>1868.0</td>\n      <td>34.698766</td>\n      <td>-2.147466</td>\n      <td>17493</td>\n      <td>0</td>\n      <td>...</td>\n      <td>2</td>\n      <td>5</td>\n      <td>4</td>\n      <td>4</td>\n      <td>0</td>\n      <td>0</td>\n      <td>0</td>\n      <td>0</td>\n      <td>0</td>\n      <td>0</td>\n    </tr>\n    <tr>\n      <th>2</th>\n      <td>34310</td>\n      <td>25.0</td>\n      <td>2013-02-25</td>\n      <td>1431.0</td>\n      <td>686</td>\n      <td>1732.0</td>\n      <td>37.460664</td>\n      <td>-3.821329</td>\n      <td>37342</td>\n      <td>0</td>\n      <td>...</td>\n      <td>2</td>\n      <td>5</td>\n      <td>3</td>\n      <td>3</td>\n      <td>5</td>\n      <td>3</td>\n      <td>0</td>\n      <td>3</td>\n      <td>0</td>\n      <td>0</td>\n    </tr>\n    <tr>\n      <th>3</th>\n      <td>67743</td>\n      <td>0.0</td>\n      <td>2013-01-28</td>\n      <td>1265.0</td>\n      <td>263</td>\n      <td>1254.0</td>\n      <td>38.486161</td>\n      <td>-11.155298</td>\n      <td>12</td>\n      <td>0</td>\n      <td>...</td>\n      <td>2</td>\n      <td>5</td>\n      <td>1</td>\n      <td>1</td>\n      <td>4</td>\n      <td>5</td>\n      <td>2</td>\n      <td>3</td>\n      <td>0</td>\n      <td>2</td>\n    </tr>\n    <tr>\n      <th>4</th>\n      <td>19728</td>\n      <td>0.0</td>\n      <td>2011-07-13</td>\n      <td>1555.0</td>\n      <td>0</td>\n      <td>1454.0</td>\n      <td>31.130847</td>\n      <td>-1.825359</td>\n      <td>29877</td>\n      <td>0</td>\n      <td>...</td>\n      <td>2</td>\n      <td>5</td>\n      <td>2</td>\n      <td>2</td>\n      <td>0</td>\n      <td>0</td>\n      <td>0</td>\n      <td>0</td>\n      <td>0</td>\n      <td>0</td>\n    </tr>\n  </tbody>\n</table>\n<p>5 rows × 41 columns</p>\n</div>"
     },
     "metadata": {},
     "execution_count": 20
    }
   ],
   "source": [
    "train_values.head(5)"
   ]
  },
  {
   "cell_type": "code",
   "execution_count": 21,
   "metadata": {},
   "outputs": [],
   "source": [
    "train_values.to_csv(\"./datasets/preprocessed_data/merged_train.csv\", index=False, header=True)"
   ]
  },
  {
   "cell_type": "code",
   "execution_count": null,
   "metadata": {},
   "outputs": [],
   "source": []
  }
 ],
 "metadata": {
  "language_info": {
   "name": "python",
   "codemirror_mode": {
    "name": "ipython",
    "version": 3
   },
   "version": "3.6.10-final"
  },
  "orig_nbformat": 2,
  "file_extension": ".py",
  "mimetype": "text/x-python",
  "name": "python",
  "npconvert_exporter": "python",
  "pygments_lexer": "ipython3",
  "version": 3,
  "kernelspec": {
   "name": "python3",
   "display_name": "Python 3"
  }
 },
 "nbformat": 4,
 "nbformat_minor": 2
}