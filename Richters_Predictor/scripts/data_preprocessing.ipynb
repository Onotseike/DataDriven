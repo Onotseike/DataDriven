{
 "cells": [
  {
   "cell_type": "markdown",
   "metadata": {},
   "source": [
    "## Import Statements"
   ]
  },
  {
   "cell_type": "code",
   "execution_count": 31,
   "metadata": {},
   "outputs": [],
   "source": [
    "import pandas as pd\n",
    "import numpy as np\n",
    "\n",
    "from sklearn.preprocessing import MinMaxScaler\n",
    "\n",
    "import matplotlib.pyplot as plt\n",
    "import seaborn as sbn"
   ]
  },
  {
   "cell_type": "markdown",
   "metadata": {},
   "source": [
    "## Load Datasets"
   ]
  },
  {
   "cell_type": "code",
   "execution_count": 32,
   "metadata": {},
   "outputs": [],
   "source": [
    "train_labels_df = pd.read_csv(\"../datasets/train_labels.csv\")\n",
    "train_values_df = pd.read_csv(\"../datasets/train_values.csv\")\n",
    "test_values_df = pd.read_csv(\"../datasets/test_values.csv\")\n",
    "submission_format_df = pd.read_csv(\"../datasets/submission_format.csv\")"
   ]
  },
  {
   "cell_type": "markdown",
   "metadata": {},
   "source": [
    "## Merge train data"
   ]
  },
  {
   "cell_type": "code",
   "execution_count": 33,
   "metadata": {},
   "outputs": [],
   "source": [
    "train_df = train_values_df.merge(train_labels_df, on=\"building_id\")"
   ]
  },
  {
   "cell_type": "markdown",
   "metadata": {},
   "source": [
    "## Function to factorize columns with dtype == np.object"
   ]
  },
  {
   "cell_type": "code",
   "execution_count": 34,
   "metadata": {},
   "outputs": [],
   "source": [
    "uniques_values = {}"
   ]
  },
  {
   "cell_type": "code",
   "execution_count": 35,
   "metadata": {},
   "outputs": [],
   "source": [
    "def convert_object_to_numeric(data_frame : pd.DataFrame):\n",
    "    for col_name in data_frame:\n",
    "        if data_frame[col_name].dtypes == np.object:\n",
    "            codes, uniques = pd.factorize(data_frame[col_name])\n",
    "            uniques_values[col_name] = uniques\n",
    "            data_frame[col_name] = pd.Series(codes)"
   ]
  },
  {
   "cell_type": "markdown",
   "metadata": {},
   "source": [
    "## Convert train_df and test_values_df"
   ]
  },
  {
   "cell_type": "code",
   "execution_count": 36,
   "metadata": {},
   "outputs": [],
   "source": [
    "convert_object_to_numeric(train_df)"
   ]
  },
  {
   "cell_type": "code",
   "execution_count": 37,
   "metadata": {},
   "outputs": [],
   "source": [
    "convert_object_to_numeric(test_values_df)"
   ]
  },
  {
   "cell_type": "markdown",
   "metadata": {},
   "source": [
    "## Check for null values"
   ]
  },
  {
   "cell_type": "code",
   "execution_count": 38,
   "metadata": {},
   "outputs": [
    {
     "output_type": "execute_result",
     "data": {
      "text/plain": "0"
     },
     "metadata": {},
     "execution_count": 38
    }
   ],
   "source": [
    "train_df.isnull().sum().sum()"
   ]
  },
  {
   "cell_type": "code",
   "execution_count": 39,
   "metadata": {},
   "outputs": [
    {
     "output_type": "execute_result",
     "data": {
      "text/plain": "0"
     },
     "metadata": {},
     "execution_count": 39
    }
   ],
   "source": [
    "test_values_df.isnull().sum().sum()"
   ]
  },
  {
   "cell_type": "markdown",
   "metadata": {},
   "source": [
    "## Save dataframes"
   ]
  },
  {
   "cell_type": "code",
   "execution_count": 40,
   "metadata": {},
   "outputs": [],
   "source": [
    "train_df.to_csv(\"../datasets/preprocessed/train_no_object.csv\", index=False, header=True)\n",
    "test_values_df.to_csv(\"../datasets/preprocessed/test_no_object.csv\", index=False, header=True)"
   ]
  },
  {
   "cell_type": "markdown",
   "metadata": {},
   "source": [
    "## Mormalize large valued columns."
   ]
  },
  {
   "cell_type": "code",
   "execution_count": 41,
   "metadata": {},
   "outputs": [],
   "source": [
    "def get_max_value(data_frame : pd.DataFrame):\n",
    "    return [(data_frame[col_name].max(), col_name) for col_name in data_frame]"
   ]
  },
  {
   "cell_type": "code",
   "execution_count": 42,
   "metadata": {},
   "outputs": [
    {
     "output_type": "execute_result",
     "data": {
      "text/plain": "[(1052934, 'building_id'),\n (30, 'geo_level_1_id'),\n (1427, 'geo_level_2_id'),\n (12567, 'geo_level_3_id'),\n (9, 'count_floors_pre_eq'),\n (995, 'age'),\n (100, 'area_percentage'),\n (32, 'height_percentage'),\n (2, 'land_surface_condition'),\n (4, 'foundation_type'),\n (2, 'roof_type'),\n (4, 'ground_floor_type'),\n (3, 'other_floor_type'),\n (3, 'position'),\n (9, 'plan_configuration'),\n (1, 'has_superstructure_adobe_mud'),\n (1, 'has_superstructure_mud_mortar_stone'),\n (1, 'has_superstructure_stone_flag'),\n (1, 'has_superstructure_cement_mortar_stone'),\n (1, 'has_superstructure_mud_mortar_brick'),\n (1, 'has_superstructure_cement_mortar_brick'),\n (1, 'has_superstructure_timber'),\n (1, 'has_superstructure_bamboo'),\n (1, 'has_superstructure_rc_non_engineered'),\n (1, 'has_superstructure_rc_engineered'),\n (1, 'has_superstructure_other'),\n (3, 'legal_ownership_status'),\n (9, 'count_families'),\n (1, 'has_secondary_use'),\n (1, 'has_secondary_use_agriculture'),\n (1, 'has_secondary_use_hotel'),\n (1, 'has_secondary_use_rental'),\n (1, 'has_secondary_use_institution'),\n (1, 'has_secondary_use_school'),\n (1, 'has_secondary_use_industry'),\n (1, 'has_secondary_use_health_post'),\n (1, 'has_secondary_use_gov_office'),\n (1, 'has_secondary_use_use_police'),\n (1, 'has_secondary_use_other'),\n (3, 'damage_grade')]"
     },
     "metadata": {},
     "execution_count": 42
    }
   ],
   "source": [
    "get_max_value(train_df)"
   ]
  },
  {
   "cell_type": "code",
   "execution_count": 43,
   "metadata": {},
   "outputs": [
    {
     "output_type": "execute_result",
     "data": {
      "text/plain": "[(1052923, 'building_id'),\n (30, 'geo_level_1_id'),\n (1427, 'geo_level_2_id'),\n (12567, 'geo_level_3_id'),\n (8, 'count_floors_pre_eq'),\n (995, 'age'),\n (92, 'area_percentage'),\n (32, 'height_percentage'),\n (2, 'land_surface_condition'),\n (4, 'foundation_type'),\n (2, 'roof_type'),\n (4, 'ground_floor_type'),\n (3, 'other_floor_type'),\n (3, 'position'),\n (9, 'plan_configuration'),\n (1, 'has_superstructure_adobe_mud'),\n (1, 'has_superstructure_mud_mortar_stone'),\n (1, 'has_superstructure_stone_flag'),\n (1, 'has_superstructure_cement_mortar_stone'),\n (1, 'has_superstructure_mud_mortar_brick'),\n (1, 'has_superstructure_cement_mortar_brick'),\n (1, 'has_superstructure_timber'),\n (1, 'has_superstructure_bamboo'),\n (1, 'has_superstructure_rc_non_engineered'),\n (1, 'has_superstructure_rc_engineered'),\n (1, 'has_superstructure_other'),\n (3, 'legal_ownership_status'),\n (8, 'count_families'),\n (1, 'has_secondary_use'),\n (1, 'has_secondary_use_agriculture'),\n (1, 'has_secondary_use_hotel'),\n (1, 'has_secondary_use_rental'),\n (1, 'has_secondary_use_institution'),\n (1, 'has_secondary_use_school'),\n (1, 'has_secondary_use_industry'),\n (1, 'has_secondary_use_health_post'),\n (1, 'has_secondary_use_gov_office'),\n (1, 'has_secondary_use_use_police'),\n (1, 'has_secondary_use_other')]"
     },
     "metadata": {},
     "execution_count": 43
    }
   ],
   "source": [
    "get_max_value(test_values_df)"
   ]
  },
  {
   "cell_type": "code",
   "execution_count": 44,
   "metadata": {},
   "outputs": [],
   "source": [
    "col_names = ['geo_level_1_id', 'geo_level_2_id', 'geo_level_3_id', 'age']"
   ]
  },
  {
   "cell_type": "code",
   "execution_count": 48,
   "metadata": {},
   "outputs": [],
   "source": [
    "def normalize_columns(data_frame : pd.DataFrame):\n",
    "    for col_name in col_names:\n",
    "        values = data_frame[col_name].values\n",
    "        scaler = MinMaxScaler(feature_range=(0, 10))\n",
    "        scaled_values = scaler.fit_transform(values.reshape(-1, 1))\n",
    "        data_frame[col_name] = pd.Series(scaled_values.flatten())"
   ]
  },
  {
   "cell_type": "code",
   "execution_count": 49,
   "metadata": {},
   "outputs": [],
   "source": [
    "normalize_columns(train_df)"
   ]
  },
  {
   "cell_type": "code",
   "execution_count": 50,
   "metadata": {},
   "outputs": [],
   "source": [
    "normalize_columns(test_values_df)"
   ]
  },
  {
   "cell_type": "markdown",
   "metadata": {},
   "source": [
    "## Save normalized columns"
   ]
  },
  {
   "cell_type": "code",
   "execution_count": 51,
   "metadata": {},
   "outputs": [],
   "source": [
    "train_df.to_csv(\"../datasets/preprocessed/train_normalize.csv\", index=False, header=True)\n",
    "test_values_df.to_csv(\"../datasets/preprocessed/test_normalize.csv\", index=False, header=True)"
   ]
  },
  {
   "cell_type": "code",
   "execution_count": null,
   "metadata": {},
   "outputs": [],
   "source": []
  }
 ],
 "metadata": {
  "language_info": {
   "codemirror_mode": {
    "name": "ipython",
    "version": 3
   },
   "file_extension": ".py",
   "mimetype": "text/x-python",
   "name": "python",
   "nbconvert_exporter": "python",
   "pygments_lexer": "ipython3",
   "version": "3.7.7-final"
  },
  "orig_nbformat": 2,
  "kernelspec": {
   "name": "python37764bitpytorchsklearncondaa47df100fa654e0284ed04040d3cf106",
   "display_name": "Python 3.7.7 64-bit ('PyTorch_SKLearn': conda)"
  }
 },
 "nbformat": 4,
 "nbformat_minor": 2
}