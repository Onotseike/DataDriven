{
 "cells": [
  {
   "cell_type": "markdown",
   "metadata": {},
   "source": [
    "## Import Statements"
   ]
  },
  {
   "cell_type": "code",
   "execution_count": 9,
   "metadata": {},
   "outputs": [],
   "source": [
    "import gc\n",
    "\n",
    "import lightgbm as lgbm\n",
    "from lightgbm import LGBMRanker, LGBMClassifier, Dataset\n",
    "\n",
    "from sklearn.model_selection import train_test_split as tts\n",
    "\n",
    "from sklearn.metrics import accuracy_score, precision_score, f1_score\n",
    "from sklearn.metrics import classification_report, confusion_matrix, plot_confusion_matrix\n",
    "\n",
    "from sklearn.model_selection import cross_val_score\n",
    "\n",
    "import numpy as np\n",
    "import pandas as pd\n",
    "\n",
    "import matplotlib.pyplot as plt"
   ]
  },
  {
   "cell_type": "code",
   "execution_count": 10,
   "metadata": {},
   "outputs": [],
   "source": [
    "class Learner:\n",
    "    def __init__(self, train_df : pd.DataFrame, test_df : pd.DataFrame, submission_df : pd.DataFrame):\n",
    "        self.train_df = train_df\n",
    "        self.test_df = test_df\n",
    "        self.submission_df = submission_df\n",
    "\n",
    "\n",
    "    def split_dataset(self):\n",
    "        self.train_input, self.validation_input, self.train_output, self.validation_output = tts(self.train_df.drop(columns=[\"building_id\", \"damage_grade\"]), self.train_df[\"damage_grade\"], test_size=0.3)\n",
    "        return self.train_input, self.validation_input, self.train_output, self.validation_output\n",
    "    \n",
    "    def create_file(self, predicted_output, file_num : str, obj =True):\n",
    "        if predicted_output.shape[0] == self.submission_df.shape[0]:\n",
    "            #print(True)\n",
    "            submission = self.submission_df.copy()\n",
    "            for (idx,data) in submission[\"damage_grade\"].iteritems():\n",
    "                submission[\"damage_grade\"][idx] = predicted_output[idx]    \n",
    "            if obj:\n",
    "                submission.to_csv(\"../datasets/submissions_lgbm/submission_\" + file_num + \".csv\", index=False, header=True)\n",
    "            else:\n",
    "                submission.to_csv(\"../datasets/submissions_lgbm/submission_norm_\" + file_num + \".csv\", index=False, header=True)\n",
    "            del submission\n",
    "            gc.collect()   \n",
    "    \n",
    "\n",
    "    def train_model(self, parameters: dict, num_boost_rounds : int, early_stopping_rounds: int):\n",
    "        dataset = self.split_dataset()\n",
    "        train_dataset = Dataset(data=dataset[0], label=dataset[2]-1)\n",
    "        valid_dataset = Dataset(data=dataset[1], label=dataset[3]-1, reference=train_dataset)\n",
    "        self.evaluation_results = {}\n",
    "\n",
    "        ##### TRAIN ######\n",
    "        self.classifer_model = lgbm.train(params=parameters, train_set=train_dataset, num_boost_round=num_boost_rounds, early_stopping_rounds=early_stopping_rounds, valid_sets=valid_dataset, evals_result=self.evaluation_results)\n",
    "\n",
    "        #### EVAL ######\n",
    "        predicted_output = self.classifer_model.predict(dataset[1], num_iteration=self.classifer_model.best_iteration)\n",
    "        predicted_output = np.argmax(predicted_output, axis=1)+1\n",
    "        #### SCORING #####\n",
    "        #print(predicted_output.shape, dataset[3].shape)\n",
    "        #print(predicted_output)\n",
    "        self.f1_score = f1_score(y_true=dataset[3], y_pred=pd.Series(predicted_output), average='micro')\n",
    "        self.classification_report = pd.DataFrame(classification_report(y_true=dataset[3], y_pred=pd.Series(predicted_output), output_dict=True)).transpose()\n",
    "    \n",
    "\n",
    "    def test_model(self,file_num : int,  create_file=True, obj=True):\n",
    "       predicted_output = self.classifer_model.predict(self.test_df.drop(columns=[\"building_id\"]), num_iteration=self.classifer_model.best_iteration)\n",
    "       predicted_output = predicted_output + 1\n",
    "       if create_file:\n",
    "           self.create_file(predicted_output, str(file_num), obj=obj)\n",
    "       return predicted_output\n",
    "\n",
    "\n",
    "\n",
    "\n"
   ]
  },
  {
   "cell_type": "markdown",
   "metadata": {},
   "source": [
    " ## Parameters "
   ]
  },
  {
   "cell_type": "code",
   "execution_count": 11,
   "metadata": {},
   "outputs": [],
   "source": [
    "learning_rate = (0.1, 0.01, 0.03, 0.05)\n",
    "boosting_type = ('gbdt', 'rf')\n",
    "objective = ('multiclass', 'multiclassova', 'lambdarank')\n",
    "num_leaves =(31, 36, 41, 46)\n",
    "feature_fraction = (0.9, 0.8, 0.7)\n",
    "bagging_fraction = (0.8, 0.7, 0.6)\n",
    "bagging_freq = (5, 10, 15)\n",
    "verbose = 0\n",
    "early_stopping_rounds = (5, 10, 15)"
   ]
  },
  {
   "cell_type": "code",
   "execution_count": 12,
   "metadata": {},
   "outputs": [],
   "source": [
    "model_parmas = {\n",
    "    'boosting_type' : boosting_type[1],\n",
    "    'objective': objective[2],\n",
    "    \n",
    "    'num_leaves': num_leaves[2],\n",
    "    'learning_rate': learning_rate[3],\n",
    "    'feature_fraction': feature_fraction[0],\n",
    "    'bagging_fraction': bagging_fraction[0],\n",
    "    'bagging_freq': bagging_freq[0],\n",
    "    'verbose': verbose\n",
    "}"
   ]
  },
  {
   "cell_type": "markdown",
   "metadata": {},
   "source": [
    "## Datasets"
   ]
  },
  {
   "cell_type": "code",
   "execution_count": 13,
   "metadata": {},
   "outputs": [],
   "source": [
    "train_norm_df = pd.read_csv(\"../datasets/preprocessed/train_normalize.csv\")\n",
    "test_norm_df = pd.read_csv(\"../datasets/preprocessed/test_normalize.csv\")\n",
    "\n",
    "train_obj_df = pd.read_csv(\"../datasets/preprocessed/train_no_object.csv\")\n",
    "test_obj_df = pd.read_csv(\"../datasets/preprocessed/test_no_object.csv\")\n",
    "\n",
    "submission_df = pd.read_csv(\"../datasets/submission_format.csv\")"
   ]
  },
  {
   "cell_type": "markdown",
   "metadata": {},
   "source": [
    "## Train for No object data then predict test values"
   ]
  },
  {
   "cell_type": "code",
   "execution_count": 14,
   "metadata": {},
   "outputs": [],
   "source": [
    "learner = Learner(train_df=train_obj_df, test_df=test_obj_df, submission_df=submission_df)\n"
   ]
  },
  {
   "cell_type": "code",
   "execution_count": 15,
   "metadata": {},
   "outputs": [
    {
     "output_type": "error",
     "ename": "LightGBMError",
     "evalue": "Lambdarank tasks require query information",
     "traceback": [
      "\u001b[1;31m---------------------------------------------------------------------------\u001b[0m",
      "\u001b[1;31mLightGBMError\u001b[0m                             Traceback (most recent call last)",
      "\u001b[1;32m<ipython-input-15-6c02a33ef05f>\u001b[0m in \u001b[0;36m<module>\u001b[1;34m\u001b[0m\n\u001b[1;32m----> 1\u001b[1;33m \u001b[0mlearner\u001b[0m\u001b[1;33m.\u001b[0m\u001b[0mtrain_model\u001b[0m\u001b[1;33m(\u001b[0m\u001b[0mparameters\u001b[0m\u001b[1;33m=\u001b[0m\u001b[0mmodel_parmas\u001b[0m\u001b[1;33m,\u001b[0m \u001b[0mnum_boost_rounds\u001b[0m\u001b[1;33m=\u001b[0m\u001b[1;36m5\u001b[0m\u001b[1;33m,\u001b[0m \u001b[0mearly_stopping_rounds\u001b[0m\u001b[1;33m=\u001b[0m\u001b[0mearly_stopping_rounds\u001b[0m\u001b[1;33m[\u001b[0m\u001b[1;36m0\u001b[0m\u001b[1;33m]\u001b[0m\u001b[1;33m)\u001b[0m\u001b[1;33m\u001b[0m\u001b[1;33m\u001b[0m\u001b[0m\n\u001b[0m",
      "\u001b[1;32m<ipython-input-10-d110bc5eaac8>\u001b[0m in \u001b[0;36mtrain_model\u001b[1;34m(self, parameters, num_boost_rounds, early_stopping_rounds)\u001b[0m\n\u001b[0;32m     31\u001b[0m \u001b[1;33m\u001b[0m\u001b[0m\n\u001b[0;32m     32\u001b[0m         \u001b[1;31m##### TRAIN ######\u001b[0m\u001b[1;33m\u001b[0m\u001b[1;33m\u001b[0m\u001b[1;33m\u001b[0m\u001b[0m\n\u001b[1;32m---> 33\u001b[1;33m         \u001b[0mself\u001b[0m\u001b[1;33m.\u001b[0m\u001b[0mclassifer_model\u001b[0m \u001b[1;33m=\u001b[0m \u001b[0mlgbm\u001b[0m\u001b[1;33m.\u001b[0m\u001b[0mtrain\u001b[0m\u001b[1;33m(\u001b[0m\u001b[0mparams\u001b[0m\u001b[1;33m=\u001b[0m\u001b[0mparameters\u001b[0m\u001b[1;33m,\u001b[0m \u001b[0mtrain_set\u001b[0m\u001b[1;33m=\u001b[0m\u001b[0mtrain_dataset\u001b[0m\u001b[1;33m,\u001b[0m \u001b[0mnum_boost_round\u001b[0m\u001b[1;33m=\u001b[0m\u001b[0mnum_boost_rounds\u001b[0m\u001b[1;33m,\u001b[0m \u001b[0mearly_stopping_rounds\u001b[0m\u001b[1;33m=\u001b[0m\u001b[0mearly_stopping_rounds\u001b[0m\u001b[1;33m,\u001b[0m \u001b[0mvalid_sets\u001b[0m\u001b[1;33m=\u001b[0m\u001b[0mvalid_dataset\u001b[0m\u001b[1;33m,\u001b[0m \u001b[0mevals_result\u001b[0m\u001b[1;33m=\u001b[0m\u001b[0mself\u001b[0m\u001b[1;33m.\u001b[0m\u001b[0mevaluation_results\u001b[0m\u001b[1;33m)\u001b[0m\u001b[1;33m\u001b[0m\u001b[1;33m\u001b[0m\u001b[0m\n\u001b[0m\u001b[0;32m     34\u001b[0m \u001b[1;33m\u001b[0m\u001b[0m\n\u001b[0;32m     35\u001b[0m         \u001b[1;31m#### EVAL ######\u001b[0m\u001b[1;33m\u001b[0m\u001b[1;33m\u001b[0m\u001b[1;33m\u001b[0m\u001b[0m\n",
      "\u001b[1;32mD:\\Users\\onots\\Anaconda3\\envs\\PyTorch_SKLearn\\lib\\site-packages\\lightgbm\\engine.py\u001b[0m in \u001b[0;36mtrain\u001b[1;34m(params, train_set, num_boost_round, valid_sets, valid_names, fobj, feval, init_model, feature_name, categorical_feature, early_stopping_rounds, evals_result, verbose_eval, learning_rates, keep_training_booster, callbacks)\u001b[0m\n\u001b[0;32m    226\u001b[0m     \u001b[1;31m# construct booster\u001b[0m\u001b[1;33m\u001b[0m\u001b[1;33m\u001b[0m\u001b[1;33m\u001b[0m\u001b[0m\n\u001b[0;32m    227\u001b[0m     \u001b[1;32mtry\u001b[0m\u001b[1;33m:\u001b[0m\u001b[1;33m\u001b[0m\u001b[1;33m\u001b[0m\u001b[0m\n\u001b[1;32m--> 228\u001b[1;33m         \u001b[0mbooster\u001b[0m \u001b[1;33m=\u001b[0m \u001b[0mBooster\u001b[0m\u001b[1;33m(\u001b[0m\u001b[0mparams\u001b[0m\u001b[1;33m=\u001b[0m\u001b[0mparams\u001b[0m\u001b[1;33m,\u001b[0m \u001b[0mtrain_set\u001b[0m\u001b[1;33m=\u001b[0m\u001b[0mtrain_set\u001b[0m\u001b[1;33m)\u001b[0m\u001b[1;33m\u001b[0m\u001b[1;33m\u001b[0m\u001b[0m\n\u001b[0m\u001b[0;32m    229\u001b[0m         \u001b[1;32mif\u001b[0m \u001b[0mis_valid_contain_train\u001b[0m\u001b[1;33m:\u001b[0m\u001b[1;33m\u001b[0m\u001b[1;33m\u001b[0m\u001b[0m\n\u001b[0;32m    230\u001b[0m             \u001b[0mbooster\u001b[0m\u001b[1;33m.\u001b[0m\u001b[0mset_train_data_name\u001b[0m\u001b[1;33m(\u001b[0m\u001b[0mtrain_data_name\u001b[0m\u001b[1;33m)\u001b[0m\u001b[1;33m\u001b[0m\u001b[1;33m\u001b[0m\u001b[0m\n",
      "\u001b[1;32mD:\\Users\\onots\\Anaconda3\\envs\\PyTorch_SKLearn\\lib\\site-packages\\lightgbm\\basic.py\u001b[0m in \u001b[0;36m__init__\u001b[1;34m(self, params, train_set, model_file, model_str, silent)\u001b[0m\n\u001b[0;32m   1664\u001b[0m                 \u001b[0mtrain_set\u001b[0m\u001b[1;33m.\u001b[0m\u001b[0mconstruct\u001b[0m\u001b[1;33m(\u001b[0m\u001b[1;33m)\u001b[0m\u001b[1;33m.\u001b[0m\u001b[0mhandle\u001b[0m\u001b[1;33m,\u001b[0m\u001b[1;33m\u001b[0m\u001b[1;33m\u001b[0m\u001b[0m\n\u001b[0;32m   1665\u001b[0m                 \u001b[0mc_str\u001b[0m\u001b[1;33m(\u001b[0m\u001b[0mparams_str\u001b[0m\u001b[1;33m)\u001b[0m\u001b[1;33m,\u001b[0m\u001b[1;33m\u001b[0m\u001b[1;33m\u001b[0m\u001b[0m\n\u001b[1;32m-> 1666\u001b[1;33m                 ctypes.byref(self.handle)))\n\u001b[0m\u001b[0;32m   1667\u001b[0m             \u001b[1;31m# save reference to data\u001b[0m\u001b[1;33m\u001b[0m\u001b[1;33m\u001b[0m\u001b[1;33m\u001b[0m\u001b[0m\n\u001b[0;32m   1668\u001b[0m             \u001b[0mself\u001b[0m\u001b[1;33m.\u001b[0m\u001b[0mtrain_set\u001b[0m \u001b[1;33m=\u001b[0m \u001b[0mtrain_set\u001b[0m\u001b[1;33m\u001b[0m\u001b[1;33m\u001b[0m\u001b[0m\n",
      "\u001b[1;32mD:\\Users\\onots\\Anaconda3\\envs\\PyTorch_SKLearn\\lib\\site-packages\\lightgbm\\basic.py\u001b[0m in \u001b[0;36m_safe_call\u001b[1;34m(ret)\u001b[0m\n\u001b[0;32m     45\u001b[0m     \"\"\"\n\u001b[0;32m     46\u001b[0m     \u001b[1;32mif\u001b[0m \u001b[0mret\u001b[0m \u001b[1;33m!=\u001b[0m \u001b[1;36m0\u001b[0m\u001b[1;33m:\u001b[0m\u001b[1;33m\u001b[0m\u001b[1;33m\u001b[0m\u001b[0m\n\u001b[1;32m---> 47\u001b[1;33m         \u001b[1;32mraise\u001b[0m \u001b[0mLightGBMError\u001b[0m\u001b[1;33m(\u001b[0m\u001b[0mdecode_string\u001b[0m\u001b[1;33m(\u001b[0m\u001b[0m_LIB\u001b[0m\u001b[1;33m.\u001b[0m\u001b[0mLGBM_GetLastError\u001b[0m\u001b[1;33m(\u001b[0m\u001b[1;33m)\u001b[0m\u001b[1;33m)\u001b[0m\u001b[1;33m)\u001b[0m\u001b[1;33m\u001b[0m\u001b[1;33m\u001b[0m\u001b[0m\n\u001b[0m\u001b[0;32m     48\u001b[0m \u001b[1;33m\u001b[0m\u001b[0m\n\u001b[0;32m     49\u001b[0m \u001b[1;33m\u001b[0m\u001b[0m\n",
      "\u001b[1;31mLightGBMError\u001b[0m: Lambdarank tasks require query information"
     ]
    }
   ],
   "source": [
    "learner.train_model(parameters=model_parmas, num_boost_rounds=5, early_stopping_rounds=early_stopping_rounds[0])"
   ]
  },
  {
   "cell_type": "code",
   "execution_count": 16,
   "outputs": [
    {
     "output_type": "error",
     "ename": "AttributeError",
     "evalue": "'Learner' object has no attribute 'f1_score'",
     "traceback": [
      "\u001b[1;31m---------------------------------------------------------------------------\u001b[0m",
      "\u001b[1;31mAttributeError\u001b[0m                            Traceback (most recent call last)",
      "\u001b[1;32m<ipython-input-16-0bb7021d0ec1>\u001b[0m in \u001b[0;36m<module>\u001b[1;34m\u001b[0m\n\u001b[1;32m----> 1\u001b[1;33m \u001b[0mlearner\u001b[0m\u001b[1;33m.\u001b[0m\u001b[0mf1_score\u001b[0m\u001b[1;33m\u001b[0m\u001b[1;33m\u001b[0m\u001b[0m\n\u001b[0m",
      "\u001b[1;31mAttributeError\u001b[0m: 'Learner' object has no attribute 'f1_score'"
     ]
    }
   ],
   "source": [
    "learner.f1_score"
   ],
   "metadata": {
    "collapsed": false,
    "pycharm": {
     "name": "#%%\n"
    }
   }
  },
  {
   "cell_type": "code",
   "execution_count": 56,
   "metadata": {},
   "outputs": [
    {
     "output_type": "execute_result",
     "data": {
      "text/plain": "0.673769841777414"
     },
     "metadata": {},
     "execution_count": 56
    }
   ],
   "source": []
  },
  {
   "cell_type": "code",
   "execution_count": null,
   "metadata": {},
   "outputs": [],
   "source": []
  }
 ],
 "metadata": {
  "language_info": {
   "codemirror_mode": {
    "name": "ipython",
    "version": 3
   },
   "file_extension": ".py",
   "mimetype": "text/x-python",
   "name": "python",
   "nbconvert_exporter": "python",
   "pygments_lexer": "ipython3",
   "version": "3.7.7-final"
  },
  "orig_nbformat": 2,
  "kernelspec": {
   "name": "python37764bitpytorchsklearncondaa47df100fa654e0284ed04040d3cf106",
   "display_name": "Python 3.7.7 64-bit ('PyTorch_SKLearn': conda)"
  }
 },
 "nbformat": 4,
 "nbformat_minor": 2
}